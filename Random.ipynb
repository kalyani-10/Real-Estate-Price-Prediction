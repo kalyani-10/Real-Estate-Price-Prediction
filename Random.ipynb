{
 "cells": [
  {
   "cell_type": "code",
   "execution_count": 1,
   "id": "7993b075",
   "metadata": {},
   "outputs": [],
   "source": [
    "import pandas as pd\n",
    "import numpy as np\n",
    "import seaborn as sns\n",
    "import matplotlib.pyplot as plt\n",
    "from sklearn.preprocessing import MinMaxScaler, LabelEncoder, OneHotEncoder\n",
    "from sklearn.model_selection import train_test_split,  cross_val_score, cross_val_predict\n",
    "from sklearn.metrics import r2_score, confusion_matrix\n",
    "from sklearn import metrics"
   ]
  },
  {
   "cell_type": "code",
   "execution_count": 2,
   "id": "57e497b7",
   "metadata": {},
   "outputs": [],
   "source": [
    "df = pd.read_csv('../CSV/India.csv', index_col=False)"
   ]
  },
  {
   "cell_type": "code",
   "execution_count": 3,
   "id": "88d3dc9b",
   "metadata": {},
   "outputs": [
    {
     "data": {
      "text/html": [
       "<div>\n",
       "<style scoped>\n",
       "    .dataframe tbody tr th:only-of-type {\n",
       "        vertical-align: middle;\n",
       "    }\n",
       "\n",
       "    .dataframe tbody tr th {\n",
       "        vertical-align: top;\n",
       "    }\n",
       "\n",
       "    .dataframe thead th {\n",
       "        text-align: right;\n",
       "    }\n",
       "</style>\n",
       "<table border=\"1\" class=\"dataframe\">\n",
       "  <thead>\n",
       "    <tr style=\"text-align: right;\">\n",
       "      <th></th>\n",
       "      <th>Price</th>\n",
       "      <th>Area</th>\n",
       "      <th>City</th>\n",
       "      <th>Location</th>\n",
       "      <th>No. of Bedrooms</th>\n",
       "      <th>Resale</th>\n",
       "      <th>MaintenanceStaff</th>\n",
       "      <th>Gymnasium</th>\n",
       "      <th>SwimmingPool</th>\n",
       "      <th>LandscapedGardens</th>\n",
       "      <th>...</th>\n",
       "      <th>LiftAvailable</th>\n",
       "      <th>BED</th>\n",
       "      <th>VaastuCompliant</th>\n",
       "      <th>Microwave</th>\n",
       "      <th>GolfCourse</th>\n",
       "      <th>TV</th>\n",
       "      <th>DiningTable</th>\n",
       "      <th>Sofa</th>\n",
       "      <th>Wardrobe</th>\n",
       "      <th>Refrigerator</th>\n",
       "    </tr>\n",
       "  </thead>\n",
       "  <tbody>\n",
       "    <tr>\n",
       "      <th>0</th>\n",
       "      <td>30000000</td>\n",
       "      <td>3340</td>\n",
       "      <td>Banglore</td>\n",
       "      <td>JP Nagar Phase 1</td>\n",
       "      <td>4</td>\n",
       "      <td>0</td>\n",
       "      <td>1</td>\n",
       "      <td>1</td>\n",
       "      <td>1</td>\n",
       "      <td>1</td>\n",
       "      <td>...</td>\n",
       "      <td>1</td>\n",
       "      <td>0</td>\n",
       "      <td>0</td>\n",
       "      <td>0</td>\n",
       "      <td>0</td>\n",
       "      <td>0</td>\n",
       "      <td>0</td>\n",
       "      <td>0</td>\n",
       "      <td>0</td>\n",
       "      <td>0</td>\n",
       "    </tr>\n",
       "    <tr>\n",
       "      <th>1</th>\n",
       "      <td>7888000</td>\n",
       "      <td>1045</td>\n",
       "      <td>Banglore</td>\n",
       "      <td>Dasarahalli on Tumkur Road</td>\n",
       "      <td>2</td>\n",
       "      <td>0</td>\n",
       "      <td>0</td>\n",
       "      <td>1</td>\n",
       "      <td>1</td>\n",
       "      <td>1</td>\n",
       "      <td>...</td>\n",
       "      <td>1</td>\n",
       "      <td>0</td>\n",
       "      <td>1</td>\n",
       "      <td>0</td>\n",
       "      <td>0</td>\n",
       "      <td>0</td>\n",
       "      <td>0</td>\n",
       "      <td>0</td>\n",
       "      <td>0</td>\n",
       "      <td>0</td>\n",
       "    </tr>\n",
       "    <tr>\n",
       "      <th>2</th>\n",
       "      <td>4866000</td>\n",
       "      <td>1179</td>\n",
       "      <td>Banglore</td>\n",
       "      <td>Kannur on Thanisandra Main Road</td>\n",
       "      <td>2</td>\n",
       "      <td>0</td>\n",
       "      <td>0</td>\n",
       "      <td>1</td>\n",
       "      <td>1</td>\n",
       "      <td>1</td>\n",
       "      <td>...</td>\n",
       "      <td>1</td>\n",
       "      <td>0</td>\n",
       "      <td>0</td>\n",
       "      <td>0</td>\n",
       "      <td>0</td>\n",
       "      <td>0</td>\n",
       "      <td>0</td>\n",
       "      <td>0</td>\n",
       "      <td>0</td>\n",
       "      <td>0</td>\n",
       "    </tr>\n",
       "    <tr>\n",
       "      <th>3</th>\n",
       "      <td>8358000</td>\n",
       "      <td>1675</td>\n",
       "      <td>Banglore</td>\n",
       "      <td>Doddanekundi</td>\n",
       "      <td>3</td>\n",
       "      <td>0</td>\n",
       "      <td>0</td>\n",
       "      <td>0</td>\n",
       "      <td>0</td>\n",
       "      <td>0</td>\n",
       "      <td>...</td>\n",
       "      <td>1</td>\n",
       "      <td>0</td>\n",
       "      <td>0</td>\n",
       "      <td>0</td>\n",
       "      <td>0</td>\n",
       "      <td>0</td>\n",
       "      <td>0</td>\n",
       "      <td>0</td>\n",
       "      <td>0</td>\n",
       "      <td>0</td>\n",
       "    </tr>\n",
       "    <tr>\n",
       "      <th>4</th>\n",
       "      <td>6845000</td>\n",
       "      <td>1670</td>\n",
       "      <td>Banglore</td>\n",
       "      <td>Kengeri</td>\n",
       "      <td>3</td>\n",
       "      <td>0</td>\n",
       "      <td>1</td>\n",
       "      <td>1</td>\n",
       "      <td>1</td>\n",
       "      <td>1</td>\n",
       "      <td>...</td>\n",
       "      <td>1</td>\n",
       "      <td>0</td>\n",
       "      <td>0</td>\n",
       "      <td>0</td>\n",
       "      <td>0</td>\n",
       "      <td>0</td>\n",
       "      <td>0</td>\n",
       "      <td>0</td>\n",
       "      <td>0</td>\n",
       "      <td>0</td>\n",
       "    </tr>\n",
       "  </tbody>\n",
       "</table>\n",
       "<p>5 rows × 41 columns</p>\n",
       "</div>"
      ],
      "text/plain": [
       "      Price  Area      City                         Location  No. of Bedrooms  \\\n",
       "0  30000000  3340  Banglore                 JP Nagar Phase 1                4   \n",
       "1   7888000  1045  Banglore       Dasarahalli on Tumkur Road                2   \n",
       "2   4866000  1179  Banglore  Kannur on Thanisandra Main Road                2   \n",
       "3   8358000  1675  Banglore                     Doddanekundi                3   \n",
       "4   6845000  1670  Banglore                          Kengeri                3   \n",
       "\n",
       "   Resale  MaintenanceStaff  Gymnasium  SwimmingPool  LandscapedGardens  ...  \\\n",
       "0       0                 1          1             1                  1  ...   \n",
       "1       0                 0          1             1                  1  ...   \n",
       "2       0                 0          1             1                  1  ...   \n",
       "3       0                 0          0             0                  0  ...   \n",
       "4       0                 1          1             1                  1  ...   \n",
       "\n",
       "   LiftAvailable  BED  VaastuCompliant  Microwave  GolfCourse  TV  \\\n",
       "0              1    0                0          0           0   0   \n",
       "1              1    0                1          0           0   0   \n",
       "2              1    0                0          0           0   0   \n",
       "3              1    0                0          0           0   0   \n",
       "4              1    0                0          0           0   0   \n",
       "\n",
       "   DiningTable  Sofa  Wardrobe  Refrigerator  \n",
       "0            0     0         0             0  \n",
       "1            0     0         0             0  \n",
       "2            0     0         0             0  \n",
       "3            0     0         0             0  \n",
       "4            0     0         0             0  \n",
       "\n",
       "[5 rows x 41 columns]"
      ]
     },
     "execution_count": 3,
     "metadata": {},
     "output_type": "execute_result"
    }
   ],
   "source": [
    "df.head()"
   ]
  },
  {
   "cell_type": "code",
   "execution_count": null,
   "id": "3fe7246a",
   "metadata": {},
   "outputs": [],
   "source": []
  },
  {
   "cell_type": "code",
   "execution_count": 4,
   "id": "ceb904c8",
   "metadata": {},
   "outputs": [
    {
     "name": "stdout",
     "output_type": "stream",
     "text": [
      "LabelEncoder()\n"
     ]
    }
   ],
   "source": [
    "label_encoder = LabelEncoder()\n",
    "print(label_encoder)"
   ]
  },
  {
   "cell_type": "code",
   "execution_count": 5,
   "id": "8d9fd890",
   "metadata": {},
   "outputs": [
    {
     "name": "stdout",
     "output_type": "stream",
     "text": [
      "{'15th Road': 0, '4 Bunglows': 1, 'ALIND Employees Colony': 2, 'AS Rao Nagar': 3, 'Abids': 4, 'Adambakkam': 5, 'Adda Gutta': 6, 'Adibatla': 7, 'Adyar': 8, 'Airoli': 9, 'Akurli Nagar': 10, 'Alaknanda': 11, 'Alandur': 12, 'Alapathi Nagar': 13, 'Alkapur township': 14, 'Allwyn Colony': 15, 'Almasguda': 16, 'Almeida Park': 17, 'Alwal': 18, 'Alwarpet': 19, 'Ambarnath': 20, 'Ambattur': 21, 'Ambedkar Nagar': 22, 'Ambernath East': 23, 'Ambernath West': 24, 'Amberpet': 25, 'Ameenpur': 26, 'Ameerpet': 27, 'Aminjikarai': 28, 'Aminpur': 29, 'Amruthahalli': 30, 'Anagalapura Near Hennur Main Road': 31, 'Andheri': 32, 'Andheri East': 33, 'Andheri West': 34, 'Anekal City': 35, 'Anjanapura': 36, 'Anna Nagar': 37, 'Annamalai Colony': 38, 'Annanagar': 39, 'Annanagar West': 40, 'Appa Junction': 41, 'Appa Junction Peerancheru': 42, 'Arvind Nagar Colony': 43, 'Asangaon': 44, 'Ashok Nagar': 45, 'Ashok Vihar': 46, 'Attapur': 47, 'Attibele': 48, 'Aushapur': 49, 'Avadi': 50, 'Avalahalli Off Sarjapur Road': 51, 'Ayanambakkam': 52, 'Ayapakkam': 53, 'BHEL': 54, 'BK Guda Internal Road': 55, 'BK Guda Road': 56, 'BTM Layout': 57, 'Babarpur': 58, 'Bachupally': 59, 'Bachupally Road': 60, 'Bachupaly Road Miyapur': 61, 'Badamanavarthekaval': 62, 'Badlapur': 63, 'Badlapur East': 64, 'Badlapur West': 65, 'Bagh Amberpet': 66, 'Baghlingampally': 67, 'Baguiati': 68, 'Balanagar': 69, 'Balapur': 70, 'Banashankari': 71, 'Banaswadi': 72, 'Bandlaguda Jagir': 73, 'Bandra East': 74, 'Bandra West': 75, 'Banjara Hills': 76, 'Banjara Hills Road Number 12': 77, 'Bannerughatta': 78, 'Barasat': 79, 'Barkatpura': 80, 'Basheer Bagh': 81, 'Beeramguda': 82, 'Beeramguda Road': 83, 'Begumpet': 84, 'Begur': 85, 'Behala': 86, 'Belapur': 87, 'Bellandur': 88, 'Besant Nagar': 89, 'Bhadreswar': 90, 'Bhandup West': 91, 'Bhayandar East': 92, 'Bhiwandi': 93, 'Bikasipura': 94, 'Bilekahalli': 95, 'Bindapur': 96, 'Boduppal': 97, 'Boiguda': 98, 'Bolarum': 99, 'Bollaram': 100, 'Bommanahalli': 101, 'Bommasandra': 102, 'Bongloor': 103, 'Borivali East': 104, 'Borivali West': 105, 'Bowenpally': 106, 'Breach Candy': 107, 'Brookefield': 108, 'Budh Vihar': 109, 'Budigere Cross': 110, 'Burari': 111, 'CIT Nagar': 112, 'CV Raman Nagar': 113, 'Carmelaram': 114, 'Central Avenue': 115, 'Central Excise Colony Hyderabad': 116, 'Chaitanyapuri': 117, 'Chandanagar': 118, 'Chandapura': 119, 'Chattarpur': 120, 'Chembarambakkam': 121, 'Chembur': 122, 'Chembur East': 123, 'Chembur Shell Colony': 124, 'Chengalpattu': 125, 'Cherlapalli': 126, 'Chetpet': 127, 'Chikkadapally': 128, 'Chikkagubbi on Hennur Main Road': 129, 'Chikkalasandra': 130, 'Chintalakunta': 131, 'Chintalmet': 132, 'Chinthal Basthi': 133, 'Chintradripet': 134, 'Chititra Medchal': 135, 'Chitlapakkam': 136, 'Chittaranjan Park': 137, 'Chkravarti Para': 138, 'Cholambedu': 139, 'Choolaimedu': 140, 'Chromepet': 141, 'Churchgate': 142, 'D D Colony': 143, 'DD Colony': 144, 'DLF Farms': 145, 'DLF Phase 5': 146, 'DN Nagar Road': 147, 'Dadar East': 148, 'Dahisar': 149, 'Dahisar East': 150, 'Dahisar W': 151, 'Dahisar West': 152, 'Dammaiguda': 153, 'Darga Khaliz Khan': 154, 'Dasarahalli on Tumkur Road': 155, 'Dashrath Puri': 156, 'Dattapada': 157, 'Deonar': 158, 'Devanahalli': 159, 'Devidas Cross Lane': 160, 'Diamond Market Road': 161, 'Dilsukh Nagar': 162, 'Doddanekundi': 163, 'Dokali Pada': 164, 'Domalguda': 165, 'Domalguda Road': 166, 'Dombivali': 167, 'Dombivali East': 168, 'Dombivli (West)': 169, 'Domlur': 170, 'Dr A S Rao Nagar Rd': 171, 'Dronagiri': 172, 'Dullapally': 173, 'Dum Dum': 174, 'Dum Dum Park': 175, 'Dwarka Mor': 176, 'ECIL': 177, 'ECIL Cross Road': 178, 'ECIL Main Road': 179, 'East Marredpally': 180, 'East Tambaram': 181, 'East of Kailash': 182, 'Eastern Express Highway Vikhroli': 183, 'Egatoor': 184, 'Egmore': 185, 'Ekkatuthangal': 186, 'Electronic City Phase 1': 187, 'Electronic City Phase 2': 188, 'Electronics City': 189, 'Film Nagar': 190, 'Four Bungalows': 191, 'Gachibowli': 192, 'Gajularamaram': 193, 'Gajulramaram Kukatpally': 194, 'Gandipet': 195, 'Ganesh Nagar': 196, 'Garia': 197, 'Gariahat': 198, 'Ghansi Bazaar': 199, 'Ghatkopar': 200, 'Ghatkopar East': 201, 'Ghatkopar West': 202, 'Ghodbunder Road': 203, 'Godrej Hill': 204, 'Gopal Nagar': 205, 'Gopalapuram': 206, 'Gopanpally': 207, 'Goregaon': 208, 'Goregaon East': 209, 'Goregaon West': 210, 'Gottigere': 211, 'Govindpuri': 212, 'Gowrivakkam': 213, 'Greater Kailash': 214, 'Greater Kailash II': 215, 'Greater kailash 1': 216, 'Green Park': 217, 'Guduvancheri': 218, 'Guindy': 219, 'HMT Hills': 220, 'Habsiguda': 221, 'Hafeezpet': 222, 'Hakimpet': 223, 'Happy Homes Colony': 224, 'Hari Nagar': 225, 'Haridas Nagar': 226, 'Harlur': 227, 'Hastinapur': 228, 'Hauz Khas': 229, 'Haware City': 230, 'Hebbal': 231, 'Hennur': 232, 'Himayat Nagar': 233, 'Hiranandani Meadows': 234, 'Hitech City': 235, 'Hitex Road': 236, 'Hooghly Chinsurah': 237, 'Horamavu': 238, 'Hosa Road': 239, 'Hulimavu': 240, 'Hussainpur': 241, 'Hyder Nagar': 242, 'Hydershakote': 243, 'I C Colony': 244, 'IDPL Colony': 245, 'ITPL': 246, 'Injambakkam': 247, 'Irumbuliyur': 248, 'Isnapur': 249, 'Iyappanthangal': 250, 'Iyyappanthangal': 251, 'J. P. Nagar': 252, 'JNTU': 253, 'JP Nagar Phase 1': 254, 'JP Nagar Phase 3': 255, 'JP Nagar Phase 4': 256, 'JP Nagar Phase 6': 257, 'JP Nagar Phase 7': 258, 'JP Nagar Phase 8': 259, 'JP Nagar Phase 9': 260, 'Jakkur': 261, 'Jalahalli': 262, 'Jamalia': 263, 'Jamia Nagar': 264, 'Jankalyan Nagar': 265, 'Jasola': 266, 'Jayanagar': 267, 'Jhangir Pet': 268, 'Jigani': 269, 'Jogeshwari East': 270, 'Jogeshwari West': 271, 'Joka': 272, 'Jubilee Hills': 273, 'Juhu': 274, 'Junnasandra': 275, 'K K Nagar': 276, 'K. Chudahalli': 277, 'KASHELI': 278, 'KPC Layout': 279, 'KPHB': 280, 'KRCR Colony Road': 281, 'KTR Colony': 282, 'Kachiguda': 283, 'Kadugodi': 284, 'Kadugodi Industrial Area': 285, 'Kalkaji': 286, 'Kalkaji Extension': 287, 'Kalpataru': 288, 'Kalwa': 289, 'Kalyan': 290, 'Kalyan East': 291, 'Kalyan West': 292, 'Kamothe': 293, 'Kamothe Sector 16': 294, 'Kanakapura': 295, 'Kanakapura Road Beyond Nice Ring Road': 296, 'Kanathur Reddikuppam': 297, 'Kandivali East': 298, 'Kandivali West': 299, 'Kanjurmarg': 300, 'Kannamangala': 301, 'Kannur on Thanisandra Main Road': 302, 'Kapra': 303, 'Karanjade': 304, 'Karapakkam': 305, 'Karimnagar': 306, 'Karmanghat': 307, 'Karol Bagh': 308, 'Kasar vadavali': 309, 'Kasavanahalli': 310, 'Kasheli': 311, 'Katrap': 312, 'Kattankulathur': 313, 'Kattupakkam': 314, 'Katwaria Sarai': 315, 'Kaushambi': 316, 'Kavuri Hills': 317, 'Kelambakkam': 318, 'Kengeri': 319, 'Keshtopur': 320, 'Khajaguda Nanakramguda Road': 321, 'Khanpur': 322, 'Khar': 323, 'Kharegaon': 324, 'Kharghar': 325, 'Kharghar Sector 34C': 326, 'Khirki Extension': 327, 'Khizra Enclave': 328, 'Kil Ayanambakkam': 329, 'Kilkattalai': 330, 'Kilpauk': 331, 'Kismatpur': 332, 'Kistareddypet': 333, 'Kodambakkam': 334, 'Kodigehalli': 335, 'Kogilu': 336, 'Kokapet': 337, 'Kokapeta Village': 338, 'Kolapakkam': 339, 'Kolathur': 340, 'Kollur': 341, 'Kollur Road': 342, 'Kolshet Road': 343, 'Kompally': 344, 'Konanakunte': 345, 'Kondakal': 346, 'Kondapur': 347, 'Konnagar': 348, 'Kopar Khairane Sector 19A': 349, 'Koparkhairane Station Road': 350, 'Koper Khairane': 351, 'Koproli': 352, 'Koramangala': 353, 'Korattur': 354, 'Kothaguda': 355, 'Kothanur': 356, 'Kothapet': 357, 'Kotturpuram': 358, 'Kovilambakkam': 359, 'Kovur': 360, 'Kowkur': 361, 'Koyambedu': 362, 'Krishna Reddy Pet': 363, 'Krishnarajapura': 364, 'Kudlu': 365, 'Kukatpally': 366, 'Kulupwadi': 367, 'Kumananchavadi': 368, 'Kumaraswamy Layout': 369, 'Kumbalgodu': 370, 'Kundrathur': 371, 'Kurla': 372, 'Kushaiguda': 373, 'Kutighat': 374, 'Kuvempu Layout on Hennur Main Road': 375, 'LB Nagar': 376, 'Lajpat Nagar': 377, 'Lajpat Nagar III': 378, 'Lakdikapul': 379, 'Lake Gardens': 380, 'Lingampalli': 381, 'Link Road': 382, 'Lokhandwala Township': 383, 'Lower Parel': 384, 'MHADA Colony 20': 385, 'Macha Bolarum': 386, 'Madambakkam': 387, 'Madhapur': 388, 'Madhavaram': 389, 'Madhavaram Nagar Colony': 390, 'Madhura Nagar': 391, 'Madhyamgram': 392, 'Madinaguda': 393, 'Madipakkam': 394, 'Maduravoyal': 395, 'Madurdaha Hussainpur': 396, 'Magathane': 397, 'Mahalaxmi': 398, 'Maharashtra Nagar': 399, 'Mahatma Gandhi Road': 400, 'Mahavir Enclave': 401, 'Mahipalpur': 402, 'Mailardevpally': 403, 'Majiwada': 404, 'Malad East': 405, 'Malad West': 406, 'Malkajgiri': 407, 'Mallampet': 408, 'Mallapur': 409, 'Mambakkam': 410, 'Manapakkam': 411, 'Manikandan Nagar': 412, 'Manikonda': 413, 'Mannivakkam': 414, 'Mansa Ram Park': 415, 'Mansoorabad': 416, 'Maraimalai Nagar': 417, 'Marathahalli': 418, 'Marol': 419, 'Marsur': 420, 'Masab Tank': 421, 'Matiala': 422, 'Matrusri Nagar': 423, 'Mayur Vihar': 424, 'Mayur Vihar II': 425, 'Mayuri Nagar': 426, 'Medavakkam': 427, 'Medchal': 428, 'Meerpet': 429, 'Mehdipatnam': 430, 'Mehrauli': 431, 'Methodist Colony': 432, 'Mettuguda': 433, 'Mevalurkuppam': 434, 'Mira Bhayandar': 435, 'Mira Road': 436, 'Mira Road East': 437, 'Mira Road and Beyond': 438, 'Miyapur': 439, 'Miyapur Bachupally Road': 440, 'Miyapur HMT Swarnapuri Colony': 441, 'Mogappair': 442, 'Moolacheri': 443, 'Moolakadai': 444, 'Moosapet': 445, 'Moti Nagar': 446, 'Moula Ali': 447, 'Mudichur': 448, 'Mugalivakkam': 449, 'Mukundapur': 450, 'Mulund': 451, 'Mulund West': 452, 'Mumbai Agra National Highway': 453, 'Mumbai Highway': 454, 'Mumbai Nashik Expressway': 455, 'Mundka': 456, 'Muneshwara Nagar': 457, 'Murad Nagar': 458, 'NRSA Colony': 459, 'Nacharam': 460, 'Nagarbhavi': 461, 'Nagole': 462, 'Nahur': 463, 'Naigaon East': 464, 'Nala Sopara': 465, 'Nalasopara West': 466, 'Nallagandla Gachibowli': 467, 'Nallagandla Road': 468, 'Nallakunta': 469, 'Nanakramguda': 470, 'Nandagiri Hills': 471, 'Nandambakkam': 472, 'Nandanam': 473, 'Nanganallur': 474, 'Nanmangalam': 475, 'Napeansea Road': 476, 'Narayanaghatta': 477, 'Narayanapura on Hennur Main Road': 478, 'Narayanguda': 479, 'Narendrapur': 480, 'Narsingi': 481, 'Nasirpur': 482, 'Natakwala Lane': 483, 'Navallur': 484, 'Navi Basti': 485, 'Nayandahalli': 486, 'NehruNagar': 487, 'Neknampur': 488, 'Nelamangala': 489, 'Nenmeli': 490, 'Neredmet': 491, 'Nerul': 492, 'New Alipore': 493, 'New Maruthi Nagar': 494, 'New Town': 495, 'Nizampet': 496, 'Nungambakkam': 497, 'Off Shimpoli road': 498, 'Old Alwal': 499, 'Old Bowenpally': 500, 'Old Nallakunta': 501, 'PARSIK NAGAR': 502, 'Padi': 503, 'Padma Colony': 504, 'Padmanabhanagar': 505, 'Padmarao Nagar': 506, 'Padur': 507, 'Palam': 508, 'Palavakkam': 509, 'Palghar': 510, 'Pali Hill': 511, 'Pallavaram': 512, 'Pallikaranai': 513, 'Palm Beach': 514, 'Pammal': 515, 'Panch Pakhadi': 516, 'Panchavati Colony Manikonda': 517, 'Pant Nagar': 518, 'Panvel': 519, 'Paramount Colony Toli Chowki': 520, 'Parel': 521, 'Paschim Vihar': 522, 'Patancheru': 523, 'Patancheru Shankarpalli Road': 524, 'Pati': 525, 'Patlipada': 526, 'Patparganj': 527, 'Pazavanthangal': 528, 'Peddar Road': 529, 'Peerakankaranai': 530, 'Perambur': 531, 'Periyapanicheri': 532, 'Perumbakkam': 533, 'Perungalathur': 534, 'Perungudi': 535, 'Petali': 536, 'Picket': 537, 'Pitampura': 538, 'Pochanpur Colony': 539, 'Pocharam': 540, 'Pokharan Road': 541, 'Pokhran 2': 542, 'Poonamallee': 543, 'Porur': 544, 'Powai Lake': 545, 'Pozhichalur': 546, 'Prabhadevi': 547, 'Pragathi Nagar': 548, 'Pragathi Nagar Kukatpally': 549, 'Pragathi Nagar Road': 550, 'Pragati Nagar': 551, 'Puppalaguda': 552, 'Purasaiwakkam': 553, 'Puzhal': 554, 'Quthbullapur': 555, 'Qutub Shahi Tombs': 556, 'R T  Nagar': 557, 'R.K. Hegde Nagar': 558, 'RMV': 559, 'RMV Extension Stage 2': 560, 'RR Nagar': 561, 'Raja Annamalai Puram': 562, 'Rajajinagar': 563, 'Rajakilpakkam': 564, 'Rajarhat': 565, 'Rajbhavan Road Somajiguda': 566, 'Rajendra Nagar': 567, 'Rakshapuram': 568, 'Ramachandra Puram': 569, 'Ramamurthy Nagar': 570, 'Ramapuram': 571, 'Ramavaram': 572, 'Ramnagar Gundu': 573, 'Ranjanpada': 574, 'Rawal Pada': 575, 'Residential Flat Machavaram': 576, 'Rhoda Mistri Nagar': 577, 'Richmond Town': 578, 'Ring Road': 579, 'Roadpali': 580, 'Rohini Extension': 581, 'Rohini Sector 9': 582, 'Rohini sector 24': 583, 'Royapettah': 584, 'Rustomjee Global City': 585, 'Rutu Enclave': 586, 'SULTANPUR': 587, 'Safdarjung Enclave': 588, 'Safilguda': 589, 'Sahakar Nagar': 590, 'Sahkar Nagar': 591, 'Saidabad': 592, 'Saidapet': 593, 'Sainik Farms': 594, 'Sainikpuri': 595, 'Saket': 596, 'Samata Nagar Thakur Village': 597, 'Sanath Nagar': 598, 'Sangeet Nagar': 599, 'Sanjaynagar': 600, 'Sanpada': 601, 'Santacruz West': 602, 'Santoshnagar': 603, 'Santoshpur': 604, 'Sarita Vihar': 605, 'Sarjapur': 606, 'Sarjapur Road Wipro To Railway Crossing': 607, 'Saroornagar': 608, 'Sarsuna': 609, 'Sarvodaya Enclave': 610, 'Seawoods': 611, 'Sector 10': 612, 'Sector 10 Dwarka': 613, 'Sector 10 Khanda Colony': 614, 'Sector 11 Belapur': 615, 'Sector 11 Dwarka': 616, 'Sector 11 Kamothe': 617, 'Sector 12 A': 618, 'Sector 12 Dwarka': 619, 'Sector 12 Kharghar': 620, 'Sector 13 Dwarka': 621, 'Sector 13 Rohini': 622, 'Sector 15': 623, 'Sector 15 Kharghar': 624, 'Sector 16B Dwarka': 625, 'Sector 17 Dwarka': 626, 'Sector 17 Ulwe': 627, 'Sector 18': 628, 'Sector 18 Kamothe': 629, 'Sector 18 Kharghar': 630, 'Sector 18A Dwarka': 631, 'Sector 18B Dwarka': 632, 'Sector 19 Dwarka': 633, 'Sector 19 Kamothe': 634, 'Sector 19 Kharghar': 635, 'Sector 2 Dwarka': 636, 'Sector 20 Kamothe': 637, 'Sector 20 Kharghar': 638, 'Sector 20 Rohini': 639, 'Sector 21 Dwarka': 640, 'Sector 21 Kamothe': 641, 'Sector 21 Kharghar': 642, 'Sector 21 Ulwe': 643, 'Sector 22 Dwarka': 644, 'Sector 22 Kamothe': 645, 'Sector 22 Rohini': 646, 'Sector 23 Dwarka': 647, 'Sector 23 Rohini': 648, 'Sector 23 Ulwe': 649, 'Sector 23B Dwarka': 650, 'Sector 24 Rohini': 651, 'Sector 25 Rohini': 652, 'Sector 28 Rohini': 653, 'Sector 3 Dwarka': 654, 'Sector 30': 655, 'Sector 30 Kharghar': 656, 'Sector 35G': 657, 'Sector 35I Kharghar': 658, 'Sector 36 Kamothe': 659, 'Sector 36 Kharghar': 660, 'Sector 4 Dwarka': 661, 'Sector 5': 662, 'Sector 5 Dwarka': 663, 'Sector 5 Ulwe': 664, 'Sector 6 Dwarka': 665, 'Sector 7 Dwarka': 666, 'Sector 7 Kharghar': 667, 'Sector 9 Dwarka': 668, 'Sector 9 Rohini': 669, 'Sector-12 Kamothe': 670, 'Sector-13 Kharghar': 671, 'Sector-14 Rohini': 672, 'Sector-18 Dwarka': 673, 'Sector-18 Ulwe': 674, 'Sector-26 Taloja': 675, 'Sector-3 Ulwe': 676, 'Sector-34B Kharghar': 677, 'Sector-5 Kamothe': 678, 'Sector-50 Seawoods': 679, 'Sector-6A Kamothe': 680, 'Sector-8 Rohini': 681, 'Sector-8 Ulwe': 682, 'Sector-D Vasant Kunj': 683, 'Sector12 Kamothe': 684, 'Sector12 New Panvel': 685, 'Sector13 Khanda Colony': 686, 'Sector13 Kharghar': 687, 'Sector16 Airoli': 688, 'Sector34 A Kharghar': 689, 'Sector35D Kharghar': 690, 'Sector9 Kamothe': 691, 'Secunderabad Railway Station Road': 692, 'Selaiyur': 693, 'Sembakkam': 694, 'Semmancheri': 695, 'Serilingampally': 696, 'Sewak Park': 697, 'Shadnagar': 698, 'Shahdara': 699, 'Shaikpet': 700, 'Shakti Nagar': 701, 'Shakurbasti': 702, 'Shamshabad': 703, 'Shankarpalli': 704, 'Shanti Park Dwarka': 705, 'Shastri Nagar': 706, 'Sheikh Sarai': 707, 'Shimpoli': 708, 'Shirgaon': 709, 'Sholinganallur': 710, 'Sidhartha Nagar': 711, 'Sikh Village': 712, 'Sindhi Society Chembur': 713, 'Singaperumal Koil': 714, 'Singasandra': 715, 'Siri Fort': 716, 'Siruseri': 717, 'Sithalapakkam': 718, 'Sodepur': 719, 'Somajiguda': 720, 'Sonarpur': 721, 'Soniwadi Road': 722, 'South Extension 2': 723, 'Sri Nagar Colony': 724, 'Srisailam Highway': 725, 'Subramanyapura': 726, 'Suchitra': 727, 'Sun City': 728, 'Sun City Padmasri Estates': 729, 'Sunil Nagar': 730, 'Sunnambu Kolathur S Kolathur': 731, 'T Nagar': 732, 'TPS Road': 733, 'Talaghattapura': 734, 'Taloja': 735, 'Tambaram Sanatoruim': 736, 'Tangra': 737, 'Tardeo': 738, 'Tarnaka': 739, 'Tellapur': 740, 'TellapurOsman Nagar Road': 741, 'Teynampet': 742, 'Thaiyur': 743, 'Thakurli': 744, 'Thalambur': 745, 'Thane': 746, 'Thane West': 747, 'Thanisandra': 748, 'Thatchoor': 749, 'Thirumazhisai': 750, 'Thirumullaivoyal': 751, 'Thiruvanmiyur': 752, 'Thiruverkadu': 753, 'Thiruvidandhai': 754, 'Thoraipakkam': 755, 'Thoraipakkam OMR': 756, 'Tilak Nagar': 757, 'Tirumalgiri': 758, 'Tiruvottiyur': 759, 'Tolaram Colony': 760, 'Toli Chowki': 761, 'Tolichowki': 762, 'Tollygunge': 763, 'Trimalgherry': 764, 'Tukkuguda Airport View Point Road': 765, 'ULWE SECTOR 19': 766, 'Ullagaram': 767, 'Ultadanga': 768, 'Ulwe': 769, 'Uppal': 770, 'Uppal Kalan': 771, 'Uppalguda': 772, 'Urapakkam': 773, 'Usman Nagar': 774, 'Uttam Nagar': 775, 'Uttarahalli': 776, 'Uttarahalli Hobli': 777, 'Uttarpara Kotrung': 778, 'Vadapalani': 779, 'Vakola': 780, 'Valasaravakkam': 781, 'Vanagaram': 782, 'Vanasthalipuram': 783, 'Vandalur': 784, 'Vangani': 785, 'Varthur': 786, 'Vasai': 787, 'Vasai West': 788, 'Vasai east': 789, 'Vasant Kunj': 790, 'Vasind': 791, 'Velachery': 792, 'Velappanchavadi': 793, 'Vellakkal': 794, 'Vengaivasal': 795, 'Venkat Nagar Colony': 796, 'Vidyanagar Adikmet': 797, 'Vidyaranyapura': 798, 'Villivakkam': 799, 'Virar': 800, 'Virar East': 801, 'Virar West': 802, 'Virugambakkam': 803, 'Vivek Vidyalaya Marg': 804, 'Vivekananda Nagar Colony': 805, 'Wadala': 806, 'Wadala East Wadala': 807, 'West Amardeep Colony': 808, 'West End': 809, 'West Marredpally': 810, 'West Sagarpur': 811, 'West Tambaram': 812, 'Western Express Highway Kandivali East': 813, 'Whisper Valley': 814, 'Whitefield': 815, 'Whitefield Hope Farm Junction': 816, 'Whitefields': 817, 'Worli': 818, 'Worli South Mumbai': 819, 'Yapral': 820, 'Yelahanka': 821, 'Yerthiganahalli': 822, 'Zamistanpur': 823, 'azad nagar': 824, 'chandrayangutta': 825, 'financial District': 826, 'greater kailash Enclave 1': 827, 'hyderabad': 828, 'juhu tara': 829, 'kandivali': 830, 'kolshet': 831, 'manneguda': 832, 'mayur vihar phase 1': 833, 'mumbai': 834, 'muthangi': 835, 'nawada': 836, 'new nallakunta': 837, 'nizampet road': 838, 'no 9': 839, 'raheja vihar': 840, 'raidurgam': 841, 'south dum dum': 842, 'taloja panchanand': 843, 'tambaram west': 844, 'thakur village kandivali east': 845, 'ulhasnagar 4': 846, 'vasant vihar thane west': 847, 'west venkatapuram': 848}\n"
     ]
    }
   ],
   "source": [
    "df_encoded = df.copy()\n",
    "df_encoded['Location'] = label_encoder.fit_transform(df['Location'])\n",
    "Location_name_mapping = dict(zip(label_encoder.classes_, label_encoder.transform(label_encoder.classes_)))\n",
    "print(Location_name_mapping)"
   ]
  },
  {
   "cell_type": "code",
   "execution_count": 6,
   "id": "d4213c4e",
   "metadata": {},
   "outputs": [
    {
     "data": {
      "text/html": [
       "<div>\n",
       "<style scoped>\n",
       "    .dataframe tbody tr th:only-of-type {\n",
       "        vertical-align: middle;\n",
       "    }\n",
       "\n",
       "    .dataframe tbody tr th {\n",
       "        vertical-align: top;\n",
       "    }\n",
       "\n",
       "    .dataframe thead th {\n",
       "        text-align: right;\n",
       "    }\n",
       "</style>\n",
       "<table border=\"1\" class=\"dataframe\">\n",
       "  <thead>\n",
       "    <tr style=\"text-align: right;\">\n",
       "      <th></th>\n",
       "      <th>Price</th>\n",
       "      <th>Area</th>\n",
       "      <th>City</th>\n",
       "      <th>Location</th>\n",
       "      <th>No. of Bedrooms</th>\n",
       "      <th>Resale</th>\n",
       "      <th>MaintenanceStaff</th>\n",
       "      <th>Gymnasium</th>\n",
       "      <th>SwimmingPool</th>\n",
       "      <th>LandscapedGardens</th>\n",
       "      <th>...</th>\n",
       "      <th>LiftAvailable</th>\n",
       "      <th>BED</th>\n",
       "      <th>VaastuCompliant</th>\n",
       "      <th>Microwave</th>\n",
       "      <th>GolfCourse</th>\n",
       "      <th>TV</th>\n",
       "      <th>DiningTable</th>\n",
       "      <th>Sofa</th>\n",
       "      <th>Wardrobe</th>\n",
       "      <th>Refrigerator</th>\n",
       "    </tr>\n",
       "  </thead>\n",
       "  <tbody>\n",
       "    <tr>\n",
       "      <th>0</th>\n",
       "      <td>30000000</td>\n",
       "      <td>3340</td>\n",
       "      <td>Banglore</td>\n",
       "      <td>254</td>\n",
       "      <td>4</td>\n",
       "      <td>0</td>\n",
       "      <td>1</td>\n",
       "      <td>1</td>\n",
       "      <td>1</td>\n",
       "      <td>1</td>\n",
       "      <td>...</td>\n",
       "      <td>1</td>\n",
       "      <td>0</td>\n",
       "      <td>0</td>\n",
       "      <td>0</td>\n",
       "      <td>0</td>\n",
       "      <td>0</td>\n",
       "      <td>0</td>\n",
       "      <td>0</td>\n",
       "      <td>0</td>\n",
       "      <td>0</td>\n",
       "    </tr>\n",
       "    <tr>\n",
       "      <th>1</th>\n",
       "      <td>7888000</td>\n",
       "      <td>1045</td>\n",
       "      <td>Banglore</td>\n",
       "      <td>155</td>\n",
       "      <td>2</td>\n",
       "      <td>0</td>\n",
       "      <td>0</td>\n",
       "      <td>1</td>\n",
       "      <td>1</td>\n",
       "      <td>1</td>\n",
       "      <td>...</td>\n",
       "      <td>1</td>\n",
       "      <td>0</td>\n",
       "      <td>1</td>\n",
       "      <td>0</td>\n",
       "      <td>0</td>\n",
       "      <td>0</td>\n",
       "      <td>0</td>\n",
       "      <td>0</td>\n",
       "      <td>0</td>\n",
       "      <td>0</td>\n",
       "    </tr>\n",
       "    <tr>\n",
       "      <th>2</th>\n",
       "      <td>4866000</td>\n",
       "      <td>1179</td>\n",
       "      <td>Banglore</td>\n",
       "      <td>302</td>\n",
       "      <td>2</td>\n",
       "      <td>0</td>\n",
       "      <td>0</td>\n",
       "      <td>1</td>\n",
       "      <td>1</td>\n",
       "      <td>1</td>\n",
       "      <td>...</td>\n",
       "      <td>1</td>\n",
       "      <td>0</td>\n",
       "      <td>0</td>\n",
       "      <td>0</td>\n",
       "      <td>0</td>\n",
       "      <td>0</td>\n",
       "      <td>0</td>\n",
       "      <td>0</td>\n",
       "      <td>0</td>\n",
       "      <td>0</td>\n",
       "    </tr>\n",
       "    <tr>\n",
       "      <th>3</th>\n",
       "      <td>8358000</td>\n",
       "      <td>1675</td>\n",
       "      <td>Banglore</td>\n",
       "      <td>163</td>\n",
       "      <td>3</td>\n",
       "      <td>0</td>\n",
       "      <td>0</td>\n",
       "      <td>0</td>\n",
       "      <td>0</td>\n",
       "      <td>0</td>\n",
       "      <td>...</td>\n",
       "      <td>1</td>\n",
       "      <td>0</td>\n",
       "      <td>0</td>\n",
       "      <td>0</td>\n",
       "      <td>0</td>\n",
       "      <td>0</td>\n",
       "      <td>0</td>\n",
       "      <td>0</td>\n",
       "      <td>0</td>\n",
       "      <td>0</td>\n",
       "    </tr>\n",
       "    <tr>\n",
       "      <th>4</th>\n",
       "      <td>6845000</td>\n",
       "      <td>1670</td>\n",
       "      <td>Banglore</td>\n",
       "      <td>319</td>\n",
       "      <td>3</td>\n",
       "      <td>0</td>\n",
       "      <td>1</td>\n",
       "      <td>1</td>\n",
       "      <td>1</td>\n",
       "      <td>1</td>\n",
       "      <td>...</td>\n",
       "      <td>1</td>\n",
       "      <td>0</td>\n",
       "      <td>0</td>\n",
       "      <td>0</td>\n",
       "      <td>0</td>\n",
       "      <td>0</td>\n",
       "      <td>0</td>\n",
       "      <td>0</td>\n",
       "      <td>0</td>\n",
       "      <td>0</td>\n",
       "    </tr>\n",
       "  </tbody>\n",
       "</table>\n",
       "<p>5 rows × 41 columns</p>\n",
       "</div>"
      ],
      "text/plain": [
       "      Price  Area      City  Location  No. of Bedrooms  Resale  \\\n",
       "0  30000000  3340  Banglore       254                4       0   \n",
       "1   7888000  1045  Banglore       155                2       0   \n",
       "2   4866000  1179  Banglore       302                2       0   \n",
       "3   8358000  1675  Banglore       163                3       0   \n",
       "4   6845000  1670  Banglore       319                3       0   \n",
       "\n",
       "   MaintenanceStaff  Gymnasium  SwimmingPool  LandscapedGardens  ...  \\\n",
       "0                 1          1             1                  1  ...   \n",
       "1                 0          1             1                  1  ...   \n",
       "2                 0          1             1                  1  ...   \n",
       "3                 0          0             0                  0  ...   \n",
       "4                 1          1             1                  1  ...   \n",
       "\n",
       "   LiftAvailable  BED  VaastuCompliant  Microwave  GolfCourse  TV  \\\n",
       "0              1    0                0          0           0   0   \n",
       "1              1    0                1          0           0   0   \n",
       "2              1    0                0          0           0   0   \n",
       "3              1    0                0          0           0   0   \n",
       "4              1    0                0          0           0   0   \n",
       "\n",
       "   DiningTable  Sofa  Wardrobe  Refrigerator  \n",
       "0            0     0         0             0  \n",
       "1            0     0         0             0  \n",
       "2            0     0         0             0  \n",
       "3            0     0         0             0  \n",
       "4            0     0         0             0  \n",
       "\n",
       "[5 rows x 41 columns]"
      ]
     },
     "execution_count": 6,
     "metadata": {},
     "output_type": "execute_result"
    }
   ],
   "source": [
    "df_encoded.head()"
   ]
  },
  {
   "cell_type": "code",
   "execution_count": null,
   "id": "51942527",
   "metadata": {},
   "outputs": [],
   "source": []
  },
  {
   "cell_type": "code",
   "execution_count": 7,
   "id": "f429f577",
   "metadata": {},
   "outputs": [
    {
     "name": "stdout",
     "output_type": "stream",
     "text": [
      "{'Banglore': 0, 'Chennai': 1, 'Delhi': 2, 'Hyderabad': 3, 'Kolkata': 4, 'Mumbai': 5}\n"
     ]
    }
   ],
   "source": [
    "df_encoded['City'] = label_encoder.fit_transform(df['City'])\n",
    "city_name_mapping = dict(zip(label_encoder.classes_, label_encoder.transform(label_encoder.classes_)))\n",
    "print(city_name_mapping)"
   ]
  },
  {
   "cell_type": "code",
   "execution_count": 8,
   "id": "28901130",
   "metadata": {},
   "outputs": [
    {
     "data": {
      "text/html": [
       "<div>\n",
       "<style scoped>\n",
       "    .dataframe tbody tr th:only-of-type {\n",
       "        vertical-align: middle;\n",
       "    }\n",
       "\n",
       "    .dataframe tbody tr th {\n",
       "        vertical-align: top;\n",
       "    }\n",
       "\n",
       "    .dataframe thead th {\n",
       "        text-align: right;\n",
       "    }\n",
       "</style>\n",
       "<table border=\"1\" class=\"dataframe\">\n",
       "  <thead>\n",
       "    <tr style=\"text-align: right;\">\n",
       "      <th></th>\n",
       "      <th>Price</th>\n",
       "      <th>Area</th>\n",
       "      <th>City</th>\n",
       "      <th>Location</th>\n",
       "      <th>No. of Bedrooms</th>\n",
       "      <th>Resale</th>\n",
       "      <th>MaintenanceStaff</th>\n",
       "      <th>Gymnasium</th>\n",
       "      <th>SwimmingPool</th>\n",
       "      <th>LandscapedGardens</th>\n",
       "      <th>...</th>\n",
       "      <th>LiftAvailable</th>\n",
       "      <th>BED</th>\n",
       "      <th>VaastuCompliant</th>\n",
       "      <th>Microwave</th>\n",
       "      <th>GolfCourse</th>\n",
       "      <th>TV</th>\n",
       "      <th>DiningTable</th>\n",
       "      <th>Sofa</th>\n",
       "      <th>Wardrobe</th>\n",
       "      <th>Refrigerator</th>\n",
       "    </tr>\n",
       "  </thead>\n",
       "  <tbody>\n",
       "    <tr>\n",
       "      <th>0</th>\n",
       "      <td>30000000</td>\n",
       "      <td>3340</td>\n",
       "      <td>0</td>\n",
       "      <td>254</td>\n",
       "      <td>4</td>\n",
       "      <td>0</td>\n",
       "      <td>1</td>\n",
       "      <td>1</td>\n",
       "      <td>1</td>\n",
       "      <td>1</td>\n",
       "      <td>...</td>\n",
       "      <td>1</td>\n",
       "      <td>0</td>\n",
       "      <td>0</td>\n",
       "      <td>0</td>\n",
       "      <td>0</td>\n",
       "      <td>0</td>\n",
       "      <td>0</td>\n",
       "      <td>0</td>\n",
       "      <td>0</td>\n",
       "      <td>0</td>\n",
       "    </tr>\n",
       "    <tr>\n",
       "      <th>1</th>\n",
       "      <td>7888000</td>\n",
       "      <td>1045</td>\n",
       "      <td>0</td>\n",
       "      <td>155</td>\n",
       "      <td>2</td>\n",
       "      <td>0</td>\n",
       "      <td>0</td>\n",
       "      <td>1</td>\n",
       "      <td>1</td>\n",
       "      <td>1</td>\n",
       "      <td>...</td>\n",
       "      <td>1</td>\n",
       "      <td>0</td>\n",
       "      <td>1</td>\n",
       "      <td>0</td>\n",
       "      <td>0</td>\n",
       "      <td>0</td>\n",
       "      <td>0</td>\n",
       "      <td>0</td>\n",
       "      <td>0</td>\n",
       "      <td>0</td>\n",
       "    </tr>\n",
       "    <tr>\n",
       "      <th>2</th>\n",
       "      <td>4866000</td>\n",
       "      <td>1179</td>\n",
       "      <td>0</td>\n",
       "      <td>302</td>\n",
       "      <td>2</td>\n",
       "      <td>0</td>\n",
       "      <td>0</td>\n",
       "      <td>1</td>\n",
       "      <td>1</td>\n",
       "      <td>1</td>\n",
       "      <td>...</td>\n",
       "      <td>1</td>\n",
       "      <td>0</td>\n",
       "      <td>0</td>\n",
       "      <td>0</td>\n",
       "      <td>0</td>\n",
       "      <td>0</td>\n",
       "      <td>0</td>\n",
       "      <td>0</td>\n",
       "      <td>0</td>\n",
       "      <td>0</td>\n",
       "    </tr>\n",
       "    <tr>\n",
       "      <th>3</th>\n",
       "      <td>8358000</td>\n",
       "      <td>1675</td>\n",
       "      <td>0</td>\n",
       "      <td>163</td>\n",
       "      <td>3</td>\n",
       "      <td>0</td>\n",
       "      <td>0</td>\n",
       "      <td>0</td>\n",
       "      <td>0</td>\n",
       "      <td>0</td>\n",
       "      <td>...</td>\n",
       "      <td>1</td>\n",
       "      <td>0</td>\n",
       "      <td>0</td>\n",
       "      <td>0</td>\n",
       "      <td>0</td>\n",
       "      <td>0</td>\n",
       "      <td>0</td>\n",
       "      <td>0</td>\n",
       "      <td>0</td>\n",
       "      <td>0</td>\n",
       "    </tr>\n",
       "    <tr>\n",
       "      <th>4</th>\n",
       "      <td>6845000</td>\n",
       "      <td>1670</td>\n",
       "      <td>0</td>\n",
       "      <td>319</td>\n",
       "      <td>3</td>\n",
       "      <td>0</td>\n",
       "      <td>1</td>\n",
       "      <td>1</td>\n",
       "      <td>1</td>\n",
       "      <td>1</td>\n",
       "      <td>...</td>\n",
       "      <td>1</td>\n",
       "      <td>0</td>\n",
       "      <td>0</td>\n",
       "      <td>0</td>\n",
       "      <td>0</td>\n",
       "      <td>0</td>\n",
       "      <td>0</td>\n",
       "      <td>0</td>\n",
       "      <td>0</td>\n",
       "      <td>0</td>\n",
       "    </tr>\n",
       "  </tbody>\n",
       "</table>\n",
       "<p>5 rows × 41 columns</p>\n",
       "</div>"
      ],
      "text/plain": [
       "      Price  Area  City  Location  No. of Bedrooms  Resale  MaintenanceStaff  \\\n",
       "0  30000000  3340     0       254                4       0                 1   \n",
       "1   7888000  1045     0       155                2       0                 0   \n",
       "2   4866000  1179     0       302                2       0                 0   \n",
       "3   8358000  1675     0       163                3       0                 0   \n",
       "4   6845000  1670     0       319                3       0                 1   \n",
       "\n",
       "   Gymnasium  SwimmingPool  LandscapedGardens  ...  LiftAvailable  BED  \\\n",
       "0          1             1                  1  ...              1    0   \n",
       "1          1             1                  1  ...              1    0   \n",
       "2          1             1                  1  ...              1    0   \n",
       "3          0             0                  0  ...              1    0   \n",
       "4          1             1                  1  ...              1    0   \n",
       "\n",
       "   VaastuCompliant  Microwave  GolfCourse  TV  DiningTable  Sofa  Wardrobe  \\\n",
       "0                0          0           0   0            0     0         0   \n",
       "1                1          0           0   0            0     0         0   \n",
       "2                0          0           0   0            0     0         0   \n",
       "3                0          0           0   0            0     0         0   \n",
       "4                0          0           0   0            0     0         0   \n",
       "\n",
       "   Refrigerator  \n",
       "0             0  \n",
       "1             0  \n",
       "2             0  \n",
       "3             0  \n",
       "4             0  \n",
       "\n",
       "[5 rows x 41 columns]"
      ]
     },
     "execution_count": 8,
     "metadata": {},
     "output_type": "execute_result"
    }
   ],
   "source": [
    "df_encoded.head()"
   ]
  },
  {
   "cell_type": "code",
   "execution_count": 9,
   "id": "0c3f28ac",
   "metadata": {},
   "outputs": [],
   "source": [
    "# df_scaled = df_encoded.copy()\n",
    "# scaler = MinMaxScaler()\n",
    "# df_scaled[['Area']] = scaler.fit_transform(df_scaled[['Area']])\n",
    "# df_scaled[['Price']] = scaler.fit_transform(df_scaled[['Price']])"
   ]
  },
  {
   "cell_type": "code",
   "execution_count": 10,
   "id": "8ce4c151",
   "metadata": {},
   "outputs": [
    {
     "data": {
      "text/html": [
       "<div>\n",
       "<style scoped>\n",
       "    .dataframe tbody tr th:only-of-type {\n",
       "        vertical-align: middle;\n",
       "    }\n",
       "\n",
       "    .dataframe tbody tr th {\n",
       "        vertical-align: top;\n",
       "    }\n",
       "\n",
       "    .dataframe thead th {\n",
       "        text-align: right;\n",
       "    }\n",
       "</style>\n",
       "<table border=\"1\" class=\"dataframe\">\n",
       "  <thead>\n",
       "    <tr style=\"text-align: right;\">\n",
       "      <th></th>\n",
       "      <th>Price</th>\n",
       "      <th>Area</th>\n",
       "      <th>No. of Bedrooms</th>\n",
       "      <th>City</th>\n",
       "      <th>Location</th>\n",
       "      <th>Resale</th>\n",
       "    </tr>\n",
       "  </thead>\n",
       "  <tbody>\n",
       "    <tr>\n",
       "      <th>0</th>\n",
       "      <td>30000000</td>\n",
       "      <td>3340</td>\n",
       "      <td>4</td>\n",
       "      <td>0</td>\n",
       "      <td>254</td>\n",
       "      <td>0</td>\n",
       "    </tr>\n",
       "    <tr>\n",
       "      <th>1</th>\n",
       "      <td>7888000</td>\n",
       "      <td>1045</td>\n",
       "      <td>2</td>\n",
       "      <td>0</td>\n",
       "      <td>155</td>\n",
       "      <td>0</td>\n",
       "    </tr>\n",
       "    <tr>\n",
       "      <th>2</th>\n",
       "      <td>4866000</td>\n",
       "      <td>1179</td>\n",
       "      <td>2</td>\n",
       "      <td>0</td>\n",
       "      <td>302</td>\n",
       "      <td>0</td>\n",
       "    </tr>\n",
       "    <tr>\n",
       "      <th>3</th>\n",
       "      <td>8358000</td>\n",
       "      <td>1675</td>\n",
       "      <td>3</td>\n",
       "      <td>0</td>\n",
       "      <td>163</td>\n",
       "      <td>0</td>\n",
       "    </tr>\n",
       "    <tr>\n",
       "      <th>4</th>\n",
       "      <td>6845000</td>\n",
       "      <td>1670</td>\n",
       "      <td>3</td>\n",
       "      <td>0</td>\n",
       "      <td>319</td>\n",
       "      <td>0</td>\n",
       "    </tr>\n",
       "  </tbody>\n",
       "</table>\n",
       "</div>"
      ],
      "text/plain": [
       "      Price  Area  No. of Bedrooms  City  Location  Resale\n",
       "0  30000000  3340                4     0       254       0\n",
       "1   7888000  1045                2     0       155       0\n",
       "2   4866000  1179                2     0       302       0\n",
       "3   8358000  1675                3     0       163       0\n",
       "4   6845000  1670                3     0       319       0"
      ]
     },
     "execution_count": 10,
     "metadata": {},
     "output_type": "execute_result"
    }
   ],
   "source": [
    "df1 = df_encoded[['Price','Area', 'No. of Bedrooms', 'City', 'Location', 'Resale']]\n",
    "df1.head()"
   ]
  },
  {
   "cell_type": "code",
   "execution_count": 11,
   "id": "dc0f2136",
   "metadata": {},
   "outputs": [],
   "source": [
    "df_temp = df1.copy()\n",
    "data = df_temp.drop('Price', axis=1)\n",
    "price = df_temp['Price']"
   ]
  },
  {
   "cell_type": "code",
   "execution_count": 12,
   "id": "22bfbac0",
   "metadata": {},
   "outputs": [
    {
     "name": "stdout",
     "output_type": "stream",
     "text": [
      "8074 2019 8074 2019\n"
     ]
    }
   ],
   "source": [
    "X_train, X_test, y_train, y_test = train_test_split(data, price, test_size=0.2)\n",
    "print(len(X_train), len(X_test), len(y_train), len(y_test))"
   ]
  },
  {
   "cell_type": "markdown",
   "id": "660a3c70",
   "metadata": {},
   "source": [
    "## Linear Regression"
   ]
  },
  {
   "cell_type": "code",
   "execution_count": 13,
   "id": "bdef3306",
   "metadata": {},
   "outputs": [],
   "source": [
    "from sklearn import linear_model\n",
    "from sklearn.linear_model import LinearRegression"
   ]
  },
  {
   "cell_type": "code",
   "execution_count": 14,
   "id": "4416a50f",
   "metadata": {},
   "outputs": [
    {
     "data": {
      "text/html": [
       "<style>#sk-container-id-1 {color: black;background-color: white;}#sk-container-id-1 pre{padding: 0;}#sk-container-id-1 div.sk-toggleable {background-color: white;}#sk-container-id-1 label.sk-toggleable__label {cursor: pointer;display: block;width: 100%;margin-bottom: 0;padding: 0.3em;box-sizing: border-box;text-align: center;}#sk-container-id-1 label.sk-toggleable__label-arrow:before {content: \"▸\";float: left;margin-right: 0.25em;color: #696969;}#sk-container-id-1 label.sk-toggleable__label-arrow:hover:before {color: black;}#sk-container-id-1 div.sk-estimator:hover label.sk-toggleable__label-arrow:before {color: black;}#sk-container-id-1 div.sk-toggleable__content {max-height: 0;max-width: 0;overflow: hidden;text-align: left;background-color: #f0f8ff;}#sk-container-id-1 div.sk-toggleable__content pre {margin: 0.2em;color: black;border-radius: 0.25em;background-color: #f0f8ff;}#sk-container-id-1 input.sk-toggleable__control:checked~div.sk-toggleable__content {max-height: 200px;max-width: 100%;overflow: auto;}#sk-container-id-1 input.sk-toggleable__control:checked~label.sk-toggleable__label-arrow:before {content: \"▾\";}#sk-container-id-1 div.sk-estimator input.sk-toggleable__control:checked~label.sk-toggleable__label {background-color: #d4ebff;}#sk-container-id-1 div.sk-label input.sk-toggleable__control:checked~label.sk-toggleable__label {background-color: #d4ebff;}#sk-container-id-1 input.sk-hidden--visually {border: 0;clip: rect(1px 1px 1px 1px);clip: rect(1px, 1px, 1px, 1px);height: 1px;margin: -1px;overflow: hidden;padding: 0;position: absolute;width: 1px;}#sk-container-id-1 div.sk-estimator {font-family: monospace;background-color: #f0f8ff;border: 1px dotted black;border-radius: 0.25em;box-sizing: border-box;margin-bottom: 0.5em;}#sk-container-id-1 div.sk-estimator:hover {background-color: #d4ebff;}#sk-container-id-1 div.sk-parallel-item::after {content: \"\";width: 100%;border-bottom: 1px solid gray;flex-grow: 1;}#sk-container-id-1 div.sk-label:hover label.sk-toggleable__label {background-color: #d4ebff;}#sk-container-id-1 div.sk-serial::before {content: \"\";position: absolute;border-left: 1px solid gray;box-sizing: border-box;top: 0;bottom: 0;left: 50%;z-index: 0;}#sk-container-id-1 div.sk-serial {display: flex;flex-direction: column;align-items: center;background-color: white;padding-right: 0.2em;padding-left: 0.2em;position: relative;}#sk-container-id-1 div.sk-item {position: relative;z-index: 1;}#sk-container-id-1 div.sk-parallel {display: flex;align-items: stretch;justify-content: center;background-color: white;position: relative;}#sk-container-id-1 div.sk-item::before, #sk-container-id-1 div.sk-parallel-item::before {content: \"\";position: absolute;border-left: 1px solid gray;box-sizing: border-box;top: 0;bottom: 0;left: 50%;z-index: -1;}#sk-container-id-1 div.sk-parallel-item {display: flex;flex-direction: column;z-index: 1;position: relative;background-color: white;}#sk-container-id-1 div.sk-parallel-item:first-child::after {align-self: flex-end;width: 50%;}#sk-container-id-1 div.sk-parallel-item:last-child::after {align-self: flex-start;width: 50%;}#sk-container-id-1 div.sk-parallel-item:only-child::after {width: 0;}#sk-container-id-1 div.sk-dashed-wrapped {border: 1px dashed gray;margin: 0 0.4em 0.5em 0.4em;box-sizing: border-box;padding-bottom: 0.4em;background-color: white;}#sk-container-id-1 div.sk-label label {font-family: monospace;font-weight: bold;display: inline-block;line-height: 1.2em;}#sk-container-id-1 div.sk-label-container {text-align: center;}#sk-container-id-1 div.sk-container {/* jupyter's `normalize.less` sets `[hidden] { display: none; }` but bootstrap.min.css set `[hidden] { display: none !important; }` so we also need the `!important` here to be able to override the default hidden behavior on the sphinx rendered scikit-learn.org. See: https://github.com/scikit-learn/scikit-learn/issues/21755 */display: inline-block !important;position: relative;}#sk-container-id-1 div.sk-text-repr-fallback {display: none;}</style><div id=\"sk-container-id-1\" class=\"sk-top-container\"><div class=\"sk-text-repr-fallback\"><pre>LinearRegression()</pre><b>In a Jupyter environment, please rerun this cell to show the HTML representation or trust the notebook. <br />On GitHub, the HTML representation is unable to render, please try loading this page with nbviewer.org.</b></div><div class=\"sk-container\" hidden><div class=\"sk-item\"><div class=\"sk-estimator sk-toggleable\"><input class=\"sk-toggleable__control sk-hidden--visually\" id=\"sk-estimator-id-1\" type=\"checkbox\" checked><label for=\"sk-estimator-id-1\" class=\"sk-toggleable__label sk-toggleable__label-arrow\">LinearRegression</label><div class=\"sk-toggleable__content\"><pre>LinearRegression()</pre></div></div></div></div></div>"
      ],
      "text/plain": [
       "LinearRegression()"
      ]
     },
     "execution_count": 14,
     "metadata": {},
     "output_type": "execute_result"
    }
   ],
   "source": [
    "LR = LinearRegression()\n",
    "LR.fit(X_train, y_train)"
   ]
  },
  {
   "cell_type": "code",
   "execution_count": 15,
   "id": "c5f68d3d",
   "metadata": {},
   "outputs": [
    {
     "name": "stdout",
     "output_type": "stream",
     "text": [
      "[10300032.22122875  3667503.18796827  9064869.22555081 ...\n",
      "  8507972.13606982  4168178.91662057  9139053.20861291]\n"
     ]
    }
   ],
   "source": [
    "y_predict_LR = LR.predict(X_test)\n",
    "print(y_predict_LR)"
   ]
  },
  {
   "cell_type": "code",
   "execution_count": 54,
   "id": "bfb91d44",
   "metadata": {},
   "outputs": [
    {
     "name": "stdout",
     "output_type": "stream",
     "text": [
      "[33587674.61022089]\n"
     ]
    },
    {
     "name": "stderr",
     "output_type": "stream",
     "text": [
      "D:\\College\\SEM - 8\\BE Final project\\VirEnv\\Lib\\site-packages\\sklearn\\base.py:420: UserWarning: X does not have valid feature names, but LinearRegression was fitted with feature names\n",
      "  warnings.warn(\n"
     ]
    }
   ],
   "source": [
    "d = [[3340, 4, 0, 254, 0]]\n",
    "y_predict_LR_s = LR.predict(d)\n",
    "print(y_predict_LR_s)"
   ]
  },
  {
   "cell_type": "code",
   "execution_count": 16,
   "id": "14e8f047",
   "metadata": {},
   "outputs": [
    {
     "name": "stdout",
     "output_type": "stream",
     "text": [
      "41.13405758828369\n"
     ]
    }
   ],
   "source": [
    "LR_score = LR.score(X_test, y_test)\n",
    "print(LR_score*100)"
   ]
  },
  {
   "cell_type": "code",
   "execution_count": 17,
   "id": "e3261589",
   "metadata": {},
   "outputs": [],
   "source": [
    "# Cross Validation\n",
    "CVS_LR = cross_val_score(LR, data, price, cv=10).mean()\n",
    "CVP_LR= cross_val_predict(LR, X_test, y_test,  cv=10)"
   ]
  },
  {
   "cell_type": "code",
   "execution_count": 18,
   "id": "d3fdd3d1",
   "metadata": {},
   "outputs": [
    {
     "data": {
      "text/plain": [
       "array([9636963.16648152, 3932352.29811206, 9001905.85968395, ...,\n",
       "       7444173.14298079, 4469573.39543329, 8567495.03200656])"
      ]
     },
     "execution_count": 18,
     "metadata": {},
     "output_type": "execute_result"
    }
   ],
   "source": [
    "CVP_LR"
   ]
  },
  {
   "cell_type": "markdown",
   "id": "90723425",
   "metadata": {},
   "source": [
    "### 3.2 Ridge Regression"
   ]
  },
  {
   "cell_type": "code",
   "execution_count": 19,
   "id": "2e314a62",
   "metadata": {},
   "outputs": [],
   "source": [
    "from sklearn.linear_model import Ridge\n",
    "from sklearn.model_selection import GridSearchCV"
   ]
  },
  {
   "cell_type": "code",
   "execution_count": 20,
   "id": "4ccee811",
   "metadata": {},
   "outputs": [
    {
     "data": {
      "text/html": [
       "<style>#sk-container-id-2 {color: black;background-color: white;}#sk-container-id-2 pre{padding: 0;}#sk-container-id-2 div.sk-toggleable {background-color: white;}#sk-container-id-2 label.sk-toggleable__label {cursor: pointer;display: block;width: 100%;margin-bottom: 0;padding: 0.3em;box-sizing: border-box;text-align: center;}#sk-container-id-2 label.sk-toggleable__label-arrow:before {content: \"▸\";float: left;margin-right: 0.25em;color: #696969;}#sk-container-id-2 label.sk-toggleable__label-arrow:hover:before {color: black;}#sk-container-id-2 div.sk-estimator:hover label.sk-toggleable__label-arrow:before {color: black;}#sk-container-id-2 div.sk-toggleable__content {max-height: 0;max-width: 0;overflow: hidden;text-align: left;background-color: #f0f8ff;}#sk-container-id-2 div.sk-toggleable__content pre {margin: 0.2em;color: black;border-radius: 0.25em;background-color: #f0f8ff;}#sk-container-id-2 input.sk-toggleable__control:checked~div.sk-toggleable__content {max-height: 200px;max-width: 100%;overflow: auto;}#sk-container-id-2 input.sk-toggleable__control:checked~label.sk-toggleable__label-arrow:before {content: \"▾\";}#sk-container-id-2 div.sk-estimator input.sk-toggleable__control:checked~label.sk-toggleable__label {background-color: #d4ebff;}#sk-container-id-2 div.sk-label input.sk-toggleable__control:checked~label.sk-toggleable__label {background-color: #d4ebff;}#sk-container-id-2 input.sk-hidden--visually {border: 0;clip: rect(1px 1px 1px 1px);clip: rect(1px, 1px, 1px, 1px);height: 1px;margin: -1px;overflow: hidden;padding: 0;position: absolute;width: 1px;}#sk-container-id-2 div.sk-estimator {font-family: monospace;background-color: #f0f8ff;border: 1px dotted black;border-radius: 0.25em;box-sizing: border-box;margin-bottom: 0.5em;}#sk-container-id-2 div.sk-estimator:hover {background-color: #d4ebff;}#sk-container-id-2 div.sk-parallel-item::after {content: \"\";width: 100%;border-bottom: 1px solid gray;flex-grow: 1;}#sk-container-id-2 div.sk-label:hover label.sk-toggleable__label {background-color: #d4ebff;}#sk-container-id-2 div.sk-serial::before {content: \"\";position: absolute;border-left: 1px solid gray;box-sizing: border-box;top: 0;bottom: 0;left: 50%;z-index: 0;}#sk-container-id-2 div.sk-serial {display: flex;flex-direction: column;align-items: center;background-color: white;padding-right: 0.2em;padding-left: 0.2em;position: relative;}#sk-container-id-2 div.sk-item {position: relative;z-index: 1;}#sk-container-id-2 div.sk-parallel {display: flex;align-items: stretch;justify-content: center;background-color: white;position: relative;}#sk-container-id-2 div.sk-item::before, #sk-container-id-2 div.sk-parallel-item::before {content: \"\";position: absolute;border-left: 1px solid gray;box-sizing: border-box;top: 0;bottom: 0;left: 50%;z-index: -1;}#sk-container-id-2 div.sk-parallel-item {display: flex;flex-direction: column;z-index: 1;position: relative;background-color: white;}#sk-container-id-2 div.sk-parallel-item:first-child::after {align-self: flex-end;width: 50%;}#sk-container-id-2 div.sk-parallel-item:last-child::after {align-self: flex-start;width: 50%;}#sk-container-id-2 div.sk-parallel-item:only-child::after {width: 0;}#sk-container-id-2 div.sk-dashed-wrapped {border: 1px dashed gray;margin: 0 0.4em 0.5em 0.4em;box-sizing: border-box;padding-bottom: 0.4em;background-color: white;}#sk-container-id-2 div.sk-label label {font-family: monospace;font-weight: bold;display: inline-block;line-height: 1.2em;}#sk-container-id-2 div.sk-label-container {text-align: center;}#sk-container-id-2 div.sk-container {/* jupyter's `normalize.less` sets `[hidden] { display: none; }` but bootstrap.min.css set `[hidden] { display: none !important; }` so we also need the `!important` here to be able to override the default hidden behavior on the sphinx rendered scikit-learn.org. See: https://github.com/scikit-learn/scikit-learn/issues/21755 */display: inline-block !important;position: relative;}#sk-container-id-2 div.sk-text-repr-fallback {display: none;}</style><div id=\"sk-container-id-2\" class=\"sk-top-container\"><div class=\"sk-text-repr-fallback\"><pre>Ridge()</pre><b>In a Jupyter environment, please rerun this cell to show the HTML representation or trust the notebook. <br />On GitHub, the HTML representation is unable to render, please try loading this page with nbviewer.org.</b></div><div class=\"sk-container\" hidden><div class=\"sk-item\"><div class=\"sk-estimator sk-toggleable\"><input class=\"sk-toggleable__control sk-hidden--visually\" id=\"sk-estimator-id-2\" type=\"checkbox\" checked><label for=\"sk-estimator-id-2\" class=\"sk-toggleable__label sk-toggleable__label-arrow\">Ridge</label><div class=\"sk-toggleable__content\"><pre>Ridge()</pre></div></div></div></div></div>"
      ],
      "text/plain": [
       "Ridge()"
      ]
     },
     "execution_count": 20,
     "metadata": {},
     "output_type": "execute_result"
    }
   ],
   "source": [
    "RR = Ridge()\n",
    "RR.fit(X_train,y_train)"
   ]
  },
  {
   "cell_type": "code",
   "execution_count": 21,
   "id": "082676a8",
   "metadata": {},
   "outputs": [
    {
     "name": "stdout",
     "output_type": "stream",
     "text": [
      "[10300337.37653851  3667468.11600018  9065237.8371916  ...\n",
      "  8507760.19678184  4168383.55803098  9139651.13556124]\n"
     ]
    }
   ],
   "source": [
    "y_predict_RR = RR.predict(X_test)\n",
    "print(y_predict_RR)"
   ]
  },
  {
   "cell_type": "code",
   "execution_count": 22,
   "id": "ef2a2afa",
   "metadata": {},
   "outputs": [
    {
     "name": "stdout",
     "output_type": "stream",
     "text": [
      "41.134109609182545\n"
     ]
    }
   ],
   "source": [
    "RR_score = RR.score(X_test, y_test)\n",
    "print(RR_score*100)"
   ]
  },
  {
   "cell_type": "code",
   "execution_count": 57,
   "id": "ef3d0026",
   "metadata": {},
   "outputs": [
    {
     "name": "stdout",
     "output_type": "stream",
     "text": [
      "[33587833.54662126]\n"
     ]
    },
    {
     "name": "stderr",
     "output_type": "stream",
     "text": [
      "D:\\College\\SEM - 8\\BE Final project\\VirEnv\\Lib\\site-packages\\sklearn\\base.py:420: UserWarning: X does not have valid feature names, but Ridge was fitted with feature names\n",
      "  warnings.warn(\n"
     ]
    }
   ],
   "source": [
    "d = [[3340, 4, 0, 254, 0]]\n",
    "y_predict_RR_Single = RR.predict(d)\n",
    "print(y_predict_RR_Single)"
   ]
  },
  {
   "cell_type": "code",
   "execution_count": 23,
   "id": "2bddbeea",
   "metadata": {},
   "outputs": [
    {
     "data": {
      "text/plain": [
       "array([9640220.15019201, 3933487.12189073, 9002617.08503924, ...,\n",
       "       7445385.57778879, 4471836.44504757, 8569603.92070128])"
      ]
     },
     "execution_count": 23,
     "metadata": {},
     "output_type": "execute_result"
    }
   ],
   "source": [
    "CVS_RR = cross_val_score(RR, data, price, cv=10).mean()\n",
    "CVP_RR = cross_val_predict(RR, X_test, y_test,  cv=10)\n",
    "CVP_RR"
   ]
  },
  {
   "cell_type": "markdown",
   "id": "abf96223",
   "metadata": {},
   "source": [
    "### Decision Tree"
   ]
  },
  {
   "cell_type": "code",
   "execution_count": 24,
   "id": "8106e104",
   "metadata": {},
   "outputs": [],
   "source": [
    "from sklearn.tree import DecisionTreeRegressor"
   ]
  },
  {
   "cell_type": "code",
   "execution_count": 25,
   "id": "90ff8396",
   "metadata": {},
   "outputs": [
    {
     "data": {
      "text/html": [
       "<style>#sk-container-id-3 {color: black;background-color: white;}#sk-container-id-3 pre{padding: 0;}#sk-container-id-3 div.sk-toggleable {background-color: white;}#sk-container-id-3 label.sk-toggleable__label {cursor: pointer;display: block;width: 100%;margin-bottom: 0;padding: 0.3em;box-sizing: border-box;text-align: center;}#sk-container-id-3 label.sk-toggleable__label-arrow:before {content: \"▸\";float: left;margin-right: 0.25em;color: #696969;}#sk-container-id-3 label.sk-toggleable__label-arrow:hover:before {color: black;}#sk-container-id-3 div.sk-estimator:hover label.sk-toggleable__label-arrow:before {color: black;}#sk-container-id-3 div.sk-toggleable__content {max-height: 0;max-width: 0;overflow: hidden;text-align: left;background-color: #f0f8ff;}#sk-container-id-3 div.sk-toggleable__content pre {margin: 0.2em;color: black;border-radius: 0.25em;background-color: #f0f8ff;}#sk-container-id-3 input.sk-toggleable__control:checked~div.sk-toggleable__content {max-height: 200px;max-width: 100%;overflow: auto;}#sk-container-id-3 input.sk-toggleable__control:checked~label.sk-toggleable__label-arrow:before {content: \"▾\";}#sk-container-id-3 div.sk-estimator input.sk-toggleable__control:checked~label.sk-toggleable__label {background-color: #d4ebff;}#sk-container-id-3 div.sk-label input.sk-toggleable__control:checked~label.sk-toggleable__label {background-color: #d4ebff;}#sk-container-id-3 input.sk-hidden--visually {border: 0;clip: rect(1px 1px 1px 1px);clip: rect(1px, 1px, 1px, 1px);height: 1px;margin: -1px;overflow: hidden;padding: 0;position: absolute;width: 1px;}#sk-container-id-3 div.sk-estimator {font-family: monospace;background-color: #f0f8ff;border: 1px dotted black;border-radius: 0.25em;box-sizing: border-box;margin-bottom: 0.5em;}#sk-container-id-3 div.sk-estimator:hover {background-color: #d4ebff;}#sk-container-id-3 div.sk-parallel-item::after {content: \"\";width: 100%;border-bottom: 1px solid gray;flex-grow: 1;}#sk-container-id-3 div.sk-label:hover label.sk-toggleable__label {background-color: #d4ebff;}#sk-container-id-3 div.sk-serial::before {content: \"\";position: absolute;border-left: 1px solid gray;box-sizing: border-box;top: 0;bottom: 0;left: 50%;z-index: 0;}#sk-container-id-3 div.sk-serial {display: flex;flex-direction: column;align-items: center;background-color: white;padding-right: 0.2em;padding-left: 0.2em;position: relative;}#sk-container-id-3 div.sk-item {position: relative;z-index: 1;}#sk-container-id-3 div.sk-parallel {display: flex;align-items: stretch;justify-content: center;background-color: white;position: relative;}#sk-container-id-3 div.sk-item::before, #sk-container-id-3 div.sk-parallel-item::before {content: \"\";position: absolute;border-left: 1px solid gray;box-sizing: border-box;top: 0;bottom: 0;left: 50%;z-index: -1;}#sk-container-id-3 div.sk-parallel-item {display: flex;flex-direction: column;z-index: 1;position: relative;background-color: white;}#sk-container-id-3 div.sk-parallel-item:first-child::after {align-self: flex-end;width: 50%;}#sk-container-id-3 div.sk-parallel-item:last-child::after {align-self: flex-start;width: 50%;}#sk-container-id-3 div.sk-parallel-item:only-child::after {width: 0;}#sk-container-id-3 div.sk-dashed-wrapped {border: 1px dashed gray;margin: 0 0.4em 0.5em 0.4em;box-sizing: border-box;padding-bottom: 0.4em;background-color: white;}#sk-container-id-3 div.sk-label label {font-family: monospace;font-weight: bold;display: inline-block;line-height: 1.2em;}#sk-container-id-3 div.sk-label-container {text-align: center;}#sk-container-id-3 div.sk-container {/* jupyter's `normalize.less` sets `[hidden] { display: none; }` but bootstrap.min.css set `[hidden] { display: none !important; }` so we also need the `!important` here to be able to override the default hidden behavior on the sphinx rendered scikit-learn.org. See: https://github.com/scikit-learn/scikit-learn/issues/21755 */display: inline-block !important;position: relative;}#sk-container-id-3 div.sk-text-repr-fallback {display: none;}</style><div id=\"sk-container-id-3\" class=\"sk-top-container\"><div class=\"sk-text-repr-fallback\"><pre>DecisionTreeRegressor(max_depth=5)</pre><b>In a Jupyter environment, please rerun this cell to show the HTML representation or trust the notebook. <br />On GitHub, the HTML representation is unable to render, please try loading this page with nbviewer.org.</b></div><div class=\"sk-container\" hidden><div class=\"sk-item\"><div class=\"sk-estimator sk-toggleable\"><input class=\"sk-toggleable__control sk-hidden--visually\" id=\"sk-estimator-id-3\" type=\"checkbox\" checked><label for=\"sk-estimator-id-3\" class=\"sk-toggleable__label sk-toggleable__label-arrow\">DecisionTreeRegressor</label><div class=\"sk-toggleable__content\"><pre>DecisionTreeRegressor(max_depth=5)</pre></div></div></div></div></div>"
      ],
      "text/plain": [
       "DecisionTreeRegressor(max_depth=5)"
      ]
     },
     "execution_count": 25,
     "metadata": {},
     "output_type": "execute_result"
    }
   ],
   "source": [
    "DT = DecisionTreeRegressor(max_depth=5)\n",
    "DT.fit(X_train,y_train)"
   ]
  },
  {
   "cell_type": "code",
   "execution_count": 26,
   "id": "ad2f5004",
   "metadata": {},
   "outputs": [
    {
     "name": "stdout",
     "output_type": "stream",
     "text": [
      "[8008583.27525253 5703172.21428571 8008583.27525253 ... 8008583.27525253\n",
      " 5703172.21428571 8008583.27525253]\n"
     ]
    }
   ],
   "source": [
    "y_predict_DT = DT.predict(X_test)\n",
    "print(y_predict_DT)"
   ]
  },
  {
   "cell_type": "code",
   "execution_count": 58,
   "id": "058bf136",
   "metadata": {},
   "outputs": [
    {
     "name": "stdout",
     "output_type": "stream",
     "text": [
      "[29623414.6097561]\n"
     ]
    },
    {
     "name": "stderr",
     "output_type": "stream",
     "text": [
      "D:\\College\\SEM - 8\\BE Final project\\VirEnv\\Lib\\site-packages\\sklearn\\base.py:420: UserWarning: X does not have valid feature names, but DecisionTreeRegressor was fitted with feature names\n",
      "  warnings.warn(\n"
     ]
    }
   ],
   "source": [
    "d = [[3340, 4, 0, 254, 0]]\n",
    "y_predict_DT_Single = DT.predict(d)\n",
    "print(y_predict_DT_Single)"
   ]
  },
  {
   "cell_type": "code",
   "execution_count": 27,
   "id": "e4b9df7b",
   "metadata": {},
   "outputs": [
    {
     "name": "stdout",
     "output_type": "stream",
     "text": [
      "9.398129838486202\n"
     ]
    }
   ],
   "source": [
    "DT_score = DT.score(X_test, y_test)\n",
    "print(DT_score*100)"
   ]
  },
  {
   "cell_type": "code",
   "execution_count": 28,
   "id": "edd02867",
   "metadata": {},
   "outputs": [],
   "source": [
    "# Cross Validation\n",
    "CVS_DT = cross_val_score(DT, data, price, cv=10).mean()\n",
    "CVP_DT= cross_val_predict(DT, X_test, y_test,  cv=10)"
   ]
  },
  {
   "cell_type": "markdown",
   "id": "b15a8b93",
   "metadata": {},
   "source": [
    "### Random Forest"
   ]
  },
  {
   "cell_type": "code",
   "execution_count": 29,
   "id": "6d4c0088",
   "metadata": {},
   "outputs": [],
   "source": [
    "from sklearn.ensemble import RandomForestRegressor"
   ]
  },
  {
   "cell_type": "code",
   "execution_count": 30,
   "id": "540b062a",
   "metadata": {},
   "outputs": [
    {
     "data": {
      "text/html": [
       "<style>#sk-container-id-4 {color: black;background-color: white;}#sk-container-id-4 pre{padding: 0;}#sk-container-id-4 div.sk-toggleable {background-color: white;}#sk-container-id-4 label.sk-toggleable__label {cursor: pointer;display: block;width: 100%;margin-bottom: 0;padding: 0.3em;box-sizing: border-box;text-align: center;}#sk-container-id-4 label.sk-toggleable__label-arrow:before {content: \"▸\";float: left;margin-right: 0.25em;color: #696969;}#sk-container-id-4 label.sk-toggleable__label-arrow:hover:before {color: black;}#sk-container-id-4 div.sk-estimator:hover label.sk-toggleable__label-arrow:before {color: black;}#sk-container-id-4 div.sk-toggleable__content {max-height: 0;max-width: 0;overflow: hidden;text-align: left;background-color: #f0f8ff;}#sk-container-id-4 div.sk-toggleable__content pre {margin: 0.2em;color: black;border-radius: 0.25em;background-color: #f0f8ff;}#sk-container-id-4 input.sk-toggleable__control:checked~div.sk-toggleable__content {max-height: 200px;max-width: 100%;overflow: auto;}#sk-container-id-4 input.sk-toggleable__control:checked~label.sk-toggleable__label-arrow:before {content: \"▾\";}#sk-container-id-4 div.sk-estimator input.sk-toggleable__control:checked~label.sk-toggleable__label {background-color: #d4ebff;}#sk-container-id-4 div.sk-label input.sk-toggleable__control:checked~label.sk-toggleable__label {background-color: #d4ebff;}#sk-container-id-4 input.sk-hidden--visually {border: 0;clip: rect(1px 1px 1px 1px);clip: rect(1px, 1px, 1px, 1px);height: 1px;margin: -1px;overflow: hidden;padding: 0;position: absolute;width: 1px;}#sk-container-id-4 div.sk-estimator {font-family: monospace;background-color: #f0f8ff;border: 1px dotted black;border-radius: 0.25em;box-sizing: border-box;margin-bottom: 0.5em;}#sk-container-id-4 div.sk-estimator:hover {background-color: #d4ebff;}#sk-container-id-4 div.sk-parallel-item::after {content: \"\";width: 100%;border-bottom: 1px solid gray;flex-grow: 1;}#sk-container-id-4 div.sk-label:hover label.sk-toggleable__label {background-color: #d4ebff;}#sk-container-id-4 div.sk-serial::before {content: \"\";position: absolute;border-left: 1px solid gray;box-sizing: border-box;top: 0;bottom: 0;left: 50%;z-index: 0;}#sk-container-id-4 div.sk-serial {display: flex;flex-direction: column;align-items: center;background-color: white;padding-right: 0.2em;padding-left: 0.2em;position: relative;}#sk-container-id-4 div.sk-item {position: relative;z-index: 1;}#sk-container-id-4 div.sk-parallel {display: flex;align-items: stretch;justify-content: center;background-color: white;position: relative;}#sk-container-id-4 div.sk-item::before, #sk-container-id-4 div.sk-parallel-item::before {content: \"\";position: absolute;border-left: 1px solid gray;box-sizing: border-box;top: 0;bottom: 0;left: 50%;z-index: -1;}#sk-container-id-4 div.sk-parallel-item {display: flex;flex-direction: column;z-index: 1;position: relative;background-color: white;}#sk-container-id-4 div.sk-parallel-item:first-child::after {align-self: flex-end;width: 50%;}#sk-container-id-4 div.sk-parallel-item:last-child::after {align-self: flex-start;width: 50%;}#sk-container-id-4 div.sk-parallel-item:only-child::after {width: 0;}#sk-container-id-4 div.sk-dashed-wrapped {border: 1px dashed gray;margin: 0 0.4em 0.5em 0.4em;box-sizing: border-box;padding-bottom: 0.4em;background-color: white;}#sk-container-id-4 div.sk-label label {font-family: monospace;font-weight: bold;display: inline-block;line-height: 1.2em;}#sk-container-id-4 div.sk-label-container {text-align: center;}#sk-container-id-4 div.sk-container {/* jupyter's `normalize.less` sets `[hidden] { display: none; }` but bootstrap.min.css set `[hidden] { display: none !important; }` so we also need the `!important` here to be able to override the default hidden behavior on the sphinx rendered scikit-learn.org. See: https://github.com/scikit-learn/scikit-learn/issues/21755 */display: inline-block !important;position: relative;}#sk-container-id-4 div.sk-text-repr-fallback {display: none;}</style><div id=\"sk-container-id-4\" class=\"sk-top-container\"><div class=\"sk-text-repr-fallback\"><pre>RandomForestRegressor(n_estimators=280, random_state=0)</pre><b>In a Jupyter environment, please rerun this cell to show the HTML representation or trust the notebook. <br />On GitHub, the HTML representation is unable to render, please try loading this page with nbviewer.org.</b></div><div class=\"sk-container\" hidden><div class=\"sk-item\"><div class=\"sk-estimator sk-toggleable\"><input class=\"sk-toggleable__control sk-hidden--visually\" id=\"sk-estimator-id-4\" type=\"checkbox\" checked><label for=\"sk-estimator-id-4\" class=\"sk-toggleable__label sk-toggleable__label-arrow\">RandomForestRegressor</label><div class=\"sk-toggleable__content\"><pre>RandomForestRegressor(n_estimators=280, random_state=0)</pre></div></div></div></div></div>"
      ],
      "text/plain": [
       "RandomForestRegressor(n_estimators=280, random_state=0)"
      ]
     },
     "execution_count": 30,
     "metadata": {},
     "output_type": "execute_result"
    }
   ],
   "source": [
    "RF = RandomForestRegressor(n_estimators=280, random_state=0)\n",
    "RF.fit(X_train, y_train)"
   ]
  },
  {
   "cell_type": "code",
   "execution_count": 31,
   "id": "fb77b0f0",
   "metadata": {},
   "outputs": [
    {
     "name": "stdout",
     "output_type": "stream",
     "text": [
      "[9657309.64193878 5193057.56377551 8334384.77857143 ... 8056000.51020408\n",
      " 5035650.         7380200.22948718]\n"
     ]
    }
   ],
   "source": [
    "y_predict_RF = RF.predict(X_test)\n",
    "print(y_predict_RF)"
   ]
  },
  {
   "cell_type": "code",
   "execution_count": 51,
   "id": "d2d3fa7b",
   "metadata": {},
   "outputs": [
    {
     "name": "stdout",
     "output_type": "stream",
     "text": [
      "[29979285.71428571]\n"
     ]
    },
    {
     "name": "stderr",
     "output_type": "stream",
     "text": [
      "D:\\College\\SEM - 8\\BE Final project\\VirEnv\\Lib\\site-packages\\sklearn\\base.py:420: UserWarning: X does not have valid feature names, but RandomForestRegressor was fitted with feature names\n",
      "  warnings.warn(\n"
     ]
    }
   ],
   "source": [
    "d = [[3340, 4, 0, 254, 0]]\n",
    "y_predict_RF_s = RF.predict(d)\n",
    "print(y_predict_RF_s)"
   ]
  },
  {
   "cell_type": "code",
   "execution_count": 32,
   "id": "554e67b8",
   "metadata": {},
   "outputs": [
    {
     "name": "stdout",
     "output_type": "stream",
     "text": [
      "53.58972208488024\n"
     ]
    }
   ],
   "source": [
    "RF_score = RF.score(X_test, y_test)\n",
    "print(RF_score*100)"
   ]
  },
  {
   "cell_type": "code",
   "execution_count": 33,
   "id": "122acf8e",
   "metadata": {},
   "outputs": [],
   "source": [
    "# Cross Validation\n",
    "CVS_RF = cross_val_score(RF, data, price, cv=10).mean()\n",
    "CVP_RF = cross_val_predict(RF, X_test, y_test,  cv=10)"
   ]
  },
  {
   "cell_type": "markdown",
   "id": "a9b27d3e",
   "metadata": {},
   "source": [
    "### XGBoost"
   ]
  },
  {
   "cell_type": "code",
   "execution_count": 34,
   "id": "1ec3104d",
   "metadata": {},
   "outputs": [],
   "source": [
    "from xgboost import XGBRegressor"
   ]
  },
  {
   "cell_type": "code",
   "execution_count": 35,
   "id": "54e99cf1",
   "metadata": {},
   "outputs": [
    {
     "data": {
      "text/html": [
       "<style>#sk-container-id-5 {color: black;background-color: white;}#sk-container-id-5 pre{padding: 0;}#sk-container-id-5 div.sk-toggleable {background-color: white;}#sk-container-id-5 label.sk-toggleable__label {cursor: pointer;display: block;width: 100%;margin-bottom: 0;padding: 0.3em;box-sizing: border-box;text-align: center;}#sk-container-id-5 label.sk-toggleable__label-arrow:before {content: \"▸\";float: left;margin-right: 0.25em;color: #696969;}#sk-container-id-5 label.sk-toggleable__label-arrow:hover:before {color: black;}#sk-container-id-5 div.sk-estimator:hover label.sk-toggleable__label-arrow:before {color: black;}#sk-container-id-5 div.sk-toggleable__content {max-height: 0;max-width: 0;overflow: hidden;text-align: left;background-color: #f0f8ff;}#sk-container-id-5 div.sk-toggleable__content pre {margin: 0.2em;color: black;border-radius: 0.25em;background-color: #f0f8ff;}#sk-container-id-5 input.sk-toggleable__control:checked~div.sk-toggleable__content {max-height: 200px;max-width: 100%;overflow: auto;}#sk-container-id-5 input.sk-toggleable__control:checked~label.sk-toggleable__label-arrow:before {content: \"▾\";}#sk-container-id-5 div.sk-estimator input.sk-toggleable__control:checked~label.sk-toggleable__label {background-color: #d4ebff;}#sk-container-id-5 div.sk-label input.sk-toggleable__control:checked~label.sk-toggleable__label {background-color: #d4ebff;}#sk-container-id-5 input.sk-hidden--visually {border: 0;clip: rect(1px 1px 1px 1px);clip: rect(1px, 1px, 1px, 1px);height: 1px;margin: -1px;overflow: hidden;padding: 0;position: absolute;width: 1px;}#sk-container-id-5 div.sk-estimator {font-family: monospace;background-color: #f0f8ff;border: 1px dotted black;border-radius: 0.25em;box-sizing: border-box;margin-bottom: 0.5em;}#sk-container-id-5 div.sk-estimator:hover {background-color: #d4ebff;}#sk-container-id-5 div.sk-parallel-item::after {content: \"\";width: 100%;border-bottom: 1px solid gray;flex-grow: 1;}#sk-container-id-5 div.sk-label:hover label.sk-toggleable__label {background-color: #d4ebff;}#sk-container-id-5 div.sk-serial::before {content: \"\";position: absolute;border-left: 1px solid gray;box-sizing: border-box;top: 0;bottom: 0;left: 50%;z-index: 0;}#sk-container-id-5 div.sk-serial {display: flex;flex-direction: column;align-items: center;background-color: white;padding-right: 0.2em;padding-left: 0.2em;position: relative;}#sk-container-id-5 div.sk-item {position: relative;z-index: 1;}#sk-container-id-5 div.sk-parallel {display: flex;align-items: stretch;justify-content: center;background-color: white;position: relative;}#sk-container-id-5 div.sk-item::before, #sk-container-id-5 div.sk-parallel-item::before {content: \"\";position: absolute;border-left: 1px solid gray;box-sizing: border-box;top: 0;bottom: 0;left: 50%;z-index: -1;}#sk-container-id-5 div.sk-parallel-item {display: flex;flex-direction: column;z-index: 1;position: relative;background-color: white;}#sk-container-id-5 div.sk-parallel-item:first-child::after {align-self: flex-end;width: 50%;}#sk-container-id-5 div.sk-parallel-item:last-child::after {align-self: flex-start;width: 50%;}#sk-container-id-5 div.sk-parallel-item:only-child::after {width: 0;}#sk-container-id-5 div.sk-dashed-wrapped {border: 1px dashed gray;margin: 0 0.4em 0.5em 0.4em;box-sizing: border-box;padding-bottom: 0.4em;background-color: white;}#sk-container-id-5 div.sk-label label {font-family: monospace;font-weight: bold;display: inline-block;line-height: 1.2em;}#sk-container-id-5 div.sk-label-container {text-align: center;}#sk-container-id-5 div.sk-container {/* jupyter's `normalize.less` sets `[hidden] { display: none; }` but bootstrap.min.css set `[hidden] { display: none !important; }` so we also need the `!important` here to be able to override the default hidden behavior on the sphinx rendered scikit-learn.org. See: https://github.com/scikit-learn/scikit-learn/issues/21755 */display: inline-block !important;position: relative;}#sk-container-id-5 div.sk-text-repr-fallback {display: none;}</style><div id=\"sk-container-id-5\" class=\"sk-top-container\"><div class=\"sk-text-repr-fallback\"><pre>XGBRegressor(base_score=None, booster=None, callbacks=None,\n",
       "             colsample_bylevel=None, colsample_bynode=None,\n",
       "             colsample_bytree=None, early_stopping_rounds=None,\n",
       "             enable_categorical=False, eval_metric=None, feature_types=None,\n",
       "             gamma=None, gpu_id=None, grow_policy=None, importance_type=None,\n",
       "             interaction_constraints=None, learning_rate=None, max_bin=None,\n",
       "             max_cat_threshold=None, max_cat_to_onehot=None,\n",
       "             max_delta_step=None, max_depth=None, max_leaves=None,\n",
       "             min_child_weight=None, missing=nan, monotone_constraints=None,\n",
       "             n_estimators=100, n_jobs=None, num_parallel_tree=None,\n",
       "             predictor=None, random_state=None, ...)</pre><b>In a Jupyter environment, please rerun this cell to show the HTML representation or trust the notebook. <br />On GitHub, the HTML representation is unable to render, please try loading this page with nbviewer.org.</b></div><div class=\"sk-container\" hidden><div class=\"sk-item\"><div class=\"sk-estimator sk-toggleable\"><input class=\"sk-toggleable__control sk-hidden--visually\" id=\"sk-estimator-id-5\" type=\"checkbox\" checked><label for=\"sk-estimator-id-5\" class=\"sk-toggleable__label sk-toggleable__label-arrow\">XGBRegressor</label><div class=\"sk-toggleable__content\"><pre>XGBRegressor(base_score=None, booster=None, callbacks=None,\n",
       "             colsample_bylevel=None, colsample_bynode=None,\n",
       "             colsample_bytree=None, early_stopping_rounds=None,\n",
       "             enable_categorical=False, eval_metric=None, feature_types=None,\n",
       "             gamma=None, gpu_id=None, grow_policy=None, importance_type=None,\n",
       "             interaction_constraints=None, learning_rate=None, max_bin=None,\n",
       "             max_cat_threshold=None, max_cat_to_onehot=None,\n",
       "             max_delta_step=None, max_depth=None, max_leaves=None,\n",
       "             min_child_weight=None, missing=nan, monotone_constraints=None,\n",
       "             n_estimators=100, n_jobs=None, num_parallel_tree=None,\n",
       "             predictor=None, random_state=None, ...)</pre></div></div></div></div></div>"
      ],
      "text/plain": [
       "XGBRegressor(base_score=None, booster=None, callbacks=None,\n",
       "             colsample_bylevel=None, colsample_bynode=None,\n",
       "             colsample_bytree=None, early_stopping_rounds=None,\n",
       "             enable_categorical=False, eval_metric=None, feature_types=None,\n",
       "             gamma=None, gpu_id=None, grow_policy=None, importance_type=None,\n",
       "             interaction_constraints=None, learning_rate=None, max_bin=None,\n",
       "             max_cat_threshold=None, max_cat_to_onehot=None,\n",
       "             max_delta_step=None, max_depth=None, max_leaves=None,\n",
       "             min_child_weight=None, missing=nan, monotone_constraints=None,\n",
       "             n_estimators=100, n_jobs=None, num_parallel_tree=None,\n",
       "             predictor=None, random_state=None, ...)"
      ]
     },
     "execution_count": 35,
     "metadata": {},
     "output_type": "execute_result"
    }
   ],
   "source": [
    "XGB = XGBRegressor()\n",
    "XGB.fit(X_train, y_train)"
   ]
  },
  {
   "cell_type": "code",
   "execution_count": 36,
   "id": "b4e1a9a8",
   "metadata": {},
   "outputs": [
    {
     "name": "stdout",
     "output_type": "stream",
     "text": [
      "[7290945.5 5252887.5 8523688.  ... 8477185.  5041713.  8953552. ]\n"
     ]
    }
   ],
   "source": [
    "y_predict_XGB = XGB.predict(X_test)\n",
    "print(y_predict_XGB)"
   ]
  },
  {
   "cell_type": "code",
   "execution_count": 53,
   "id": "8f629880",
   "metadata": {},
   "outputs": [
    {
     "name": "stdout",
     "output_type": "stream",
     "text": [
      "[28773006.]\n"
     ]
    }
   ],
   "source": [
    "a = 3340\n",
    "b = 4\n",
    "c = 0\n",
    "l = 254\n",
    "r = 0\n",
    "\n",
    "input = {\n",
    "    'Area' : [a],\n",
    "    'No. of Bedrooms' : [b], \n",
    "    'City' : [c], \n",
    "    'Location' : [l], \n",
    "    'Resale' : [r]\n",
    "}\n",
    "\n",
    "frame = df = pd.DataFrame(input)\n",
    "y_predict_XGB_single = XGB.predict(frame)\n",
    "print(y_predict_XGB_single)"
   ]
  },
  {
   "cell_type": "code",
   "execution_count": 37,
   "id": "45840b96",
   "metadata": {},
   "outputs": [
    {
     "name": "stdout",
     "output_type": "stream",
     "text": [
      "55.913986062387345\n"
     ]
    }
   ],
   "source": [
    "XGB_score = XGB.score(X_test, y_test)\n",
    "print(XGB_score*100)"
   ]
  },
  {
   "cell_type": "code",
   "execution_count": 38,
   "id": "ec31e1cb",
   "metadata": {},
   "outputs": [],
   "source": [
    "# Cross Validation\n",
    "CVS_XGB = cross_val_score(XGB, data, price, cv=10).mean()\n",
    "CVP_XGB = cross_val_predict(XGB, X_test, y_test,  cv=10)"
   ]
  },
  {
   "cell_type": "code",
   "execution_count": null,
   "id": "3a7eebc8",
   "metadata": {},
   "outputs": [],
   "source": []
  }
 ],
 "metadata": {
  "kernelspec": {
   "display_name": "VirEnv",
   "language": "python",
   "name": "virenv"
  },
  "language_info": {
   "codemirror_mode": {
    "name": "ipython",
    "version": 3
   },
   "file_extension": ".py",
   "mimetype": "text/x-python",
   "name": "python",
   "nbconvert_exporter": "python",
   "pygments_lexer": "ipython3",
   "version": "3.11.2"
  }
 },
 "nbformat": 4,
 "nbformat_minor": 5
}
